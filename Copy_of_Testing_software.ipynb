{
  "nbformat": 4,
  "nbformat_minor": 0,
  "metadata": {
    "colab": {
      "provenance": [],
      "include_colab_link": true
    },
    "kernelspec": {
      "name": "python3",
      "display_name": "Python 3"
    },
    "language_info": {
      "name": "python"
    }
  },
  "cells": [
    {
      "cell_type": "markdown",
      "metadata": {
        "id": "view-in-github",
        "colab_type": "text"
      },
      "source": [
        "<a href=\"https://colab.research.google.com/github/Svitlana1982/python-and-cyber/blob/main/Copy_of_Testing_software.ipynb\" target=\"_parent\"><img src=\"https://colab.research.google.com/assets/colab-badge.svg\" alt=\"Open In Colab\"/></a>"
      ]
    },
    {
      "cell_type": "markdown",
      "source": [
        "# Software testing\n",
        "---\n",
        "\n",
        "When we introduce new software into a wider system we need to ensure that it won't also introduce problems such as unauthorised access, data inaccuracy, or data corruption.\n",
        "\n",
        "Any software that is made available to users is vulnerable to misuse.  The software must be written to reduce the risk and the impact of misuse.\n",
        "\n",
        "Software, and data, can be protected in a range of way:\n",
        "*  passwords\n",
        "*  user access levels\n",
        "*  access control lists\n",
        "*  access keys or tokens\n",
        "\n",
        "Before software reaches end users, it should be fully tested for functionality (does it do what it needs to do) and security (can it be compromised)"
      ],
      "metadata": {
        "id": "__zep5Ixf7rd"
      }
    },
    {
      "cell_type": "markdown",
      "source": [
        "https://docs.google.com/document/d/166HglEdocWQWdhCwbfBhihKwdKfIJocsZYT-A4zjKLY/edit?usp=sharing"
      ],
      "metadata": {
        "id": "Tu7hbVzFFnOx"
      }
    },
    {
      "cell_type": "markdown",
      "source": [
        "## Exercise 1 - Understand the example scenario\n",
        "\n",
        "A small app is written to store a balance in a savings account for a user.  The user must log in (to demonstrate that they are authorised to use the app) then can do one of three things:\n",
        "*  view a user's balance\n",
        "*  view all records\n",
        "*  add funds for a user\n",
        "*  remove funds for a user (funds must not go below 0)\n",
        "*  add a new user with a balance of 0\n",
        "*  remove a user\n",
        "*  exit the app\n",
        "\n",
        "Examine each of the code cells, and their explanatory text below.  Add extra print instructions if it helps, to get an idea of what a query looks like, what data is returned from the database, etc.\n",
        "\n",
        "**You are going to test this code and so need to have an idea of what it does.  It has errors and your testing should find these errors.**"
      ],
      "metadata": {
        "id": "1niM4l5whaX1"
      }
    },
    {
      "cell_type": "markdown",
      "source": [
        "### Create a database (using sqlite3) in this colab's file system\n",
        "---\n",
        "(database connection will be created and named **db_conn**)\n",
        "\n",
        "Run the code in the cell below, then open the files panel on the left of the screen, and click on the refresh button.  You will be able to see that the database has been created.  [Video demonstration](https://vimeo.com/900384283/c15acc62a7?share=copy)\n",
        "\n",
        "The code:\n",
        "*  creates a connection to a database with name savings.sqlite\n",
        "*  creates a cursor that can perform SQL queries to  data\n",
        "\n",
        "RUN THIS CODE **ONCE** SO THAT YOU CAN SEE WHAT IT DOES\n"
      ],
      "metadata": {
        "id": "r9Mbjc1PiyGE"
      }
    },
    {
      "cell_type": "code",
      "execution_count": 9,
      "metadata": {
        "id": "Fax2eiDDdQeZ",
        "colab": {
          "base_uri": "https://localhost:8080/"
        },
        "outputId": "b98995f1-db8f-4f91-81cc-9c4c253024be"
      },
      "outputs": [
        {
          "output_type": "stream",
          "name": "stdout",
          "text": [
            "Database connected and savings table created if it didn't exist already\n"
          ]
        }
      ],
      "source": [
        "import sqlite3\n",
        "\n",
        "def create_database(db_name):\n",
        "  conn = sqlite3.connect(db_name)\n",
        "  cur = conn.cursor()\n",
        "  query = \"CREATE TABLE IF NOT EXISTS savings(user_id INTEGER PRIMARY KEY, balance REAL)\"\n",
        "  cur.execute(query)\n",
        "  conn.commit()\n",
        "  print(\"Database connected and savings table created if it didn't exist already\")\n",
        "  return conn\n",
        "\n",
        "db_conn = create_database(\"/content/savings.sqlite\")"
      ]
    },
    {
      "cell_type": "markdown",
      "source": [
        "## View the database to check it looks correct\n",
        "---\n",
        "\n",
        "Get the data from the database table and return the data and the column headings\n",
        "\n",
        "RUN THIS CODE AS OFTEN AS YOU NEED TO - IT WILL ALWAYS SHOW WHAT DATA IS IN THE DATABASE\n"
      ],
      "metadata": {
        "id": "CLf4Y0sZlkLV"
      }
    },
    {
      "cell_type": "code",
      "source": [
        "from tabulate import tabulate\n",
        "\n",
        "def get_data(conn):\n",
        "  cur = conn.cursor()\n",
        "  query = \"SELECT * FROM savings\"\n",
        "  cur.execute(query)\n",
        "  data = cur.fetchall()\n",
        "  columns = tuple(map(lambda x: x[0], cur.description))\n",
        "  return data, columns\n",
        "\n",
        "table_data, columns = get_data(db_conn)\n",
        "print(tabulate(table_data, headers = columns))"
      ],
      "metadata": {
        "id": "IQc0UINElom7",
        "colab": {
          "base_uri": "https://localhost:8080/"
        },
        "outputId": "8ddf063c-35d5-4c4b-f2c7-c75046f5ce3d"
      },
      "execution_count": 10,
      "outputs": [
        {
          "output_type": "stream",
          "name": "stdout",
          "text": [
            "user_id    balance\n",
            "---------  ---------\n"
          ]
        }
      ]
    },
    {
      "cell_type": "markdown",
      "source": [
        "### Add a balance for a user with id 1\n",
        "---\n",
        "The function below will add a new record to the database with a given user ID and a starting balance of 0.\n",
        "\n",
        "Run it **JUST ONCE** to add the record for a user with id 1"
      ],
      "metadata": {
        "id": "xyJAyURPisRd"
      }
    },
    {
      "cell_type": "code",
      "source": [
        "def add_new_user(user_id, conn):\n",
        "  cur = conn.cursor()\n",
        "  query = f\"INSERT INTO savings(user_id,balance) VALUES({str(user_id)},0)\"\n",
        "  cur.execute(query)\n",
        "  db_conn.commit()\n",
        "  print(f\"User {str(user_id)} record added\")\n",
        "\n",
        "# run the add new user function to add user with id 1, then run the next cell to get the data again and print it to show that the user with id 1 has been added\n",
        "add_new_user(1, db_conn)"
      ],
      "metadata": {
        "id": "8eFb9q0kkGBG",
        "colab": {
          "base_uri": "https://localhost:8080/"
        },
        "outputId": "a184bcbb-3c9e-4221-f7d0-b2ec267980cf"
      },
      "execution_count": 11,
      "outputs": [
        {
          "output_type": "stream",
          "name": "stdout",
          "text": [
            "User 1 record added\n"
          ]
        }
      ]
    },
    {
      "cell_type": "markdown",
      "source": [
        "### Check that the balance was saved by getting the data, then print the whole database table\n",
        "---\n",
        "These functions can be used every time you need to get all the data from the database and want to display it to check that the database has the right data in it."
      ],
      "metadata": {
        "id": "HoksY8eRntnb"
      }
    },
    {
      "cell_type": "code",
      "source": [
        "def get_data(conn):\n",
        "  cur = conn.cursor()\n",
        "  query = \"SELECT * FROM savings\"\n",
        "  cur.execute(query)\n",
        "  data = cur.fetchall()\n",
        "  columns = tuple(map(lambda x: x[0], cur.description))\n",
        "  return data, columns\n",
        "\n",
        "table_data, columns = get_data(db_conn)\n",
        "print(tabulate(table_data, headers=columns))"
      ],
      "metadata": {
        "id": "yK4-2AL1n_6T",
        "colab": {
          "base_uri": "https://localhost:8080/"
        },
        "outputId": "cabe4cac-cff0-4cf0-9a1e-94f1fe887133"
      },
      "execution_count": 12,
      "outputs": [
        {
          "output_type": "stream",
          "name": "stdout",
          "text": [
            "  user_id    balance\n",
            "---------  ---------\n",
            "        1          0\n"
          ]
        }
      ]
    },
    {
      "cell_type": "markdown",
      "source": [
        "## Check that a user exists before trying to do anything with their data\n",
        "---\n",
        "\n",
        "This function will check that a user with a given id exists in the database.  This helps to reduce errors that would occur if code tried to update or remove a record that doesn't exist.\n",
        "\n",
        "The function can be used before every update or remove operation."
      ],
      "metadata": {
        "id": "b645UDuJiH5C"
      }
    },
    {
      "cell_type": "code",
      "source": [
        "def does_exist(user_id, conn):\n",
        "  cur = conn.cursor()\n",
        "  query = f\"SELECT * FROM savings WHERE user_id = {str(user_id)}\"\n",
        "  cur.execute(query)\n",
        "  data = cur.fetchone()\n",
        "  return data is not None\n",
        "\n",
        "# run the does_exist function to check that user id 1 exists in the database\n",
        "print(does_exist(1, db_conn))"
      ],
      "metadata": {
        "id": "_BlHN8M8idtR",
        "colab": {
          "base_uri": "https://localhost:8080/"
        },
        "outputId": "80e97dc1-d80e-4ab6-dfd0-72a3de4ba53d"
      },
      "execution_count": 13,
      "outputs": [
        {
          "output_type": "stream",
          "name": "stdout",
          "text": [
            "True\n"
          ]
        }
      ]
    },
    {
      "cell_type": "markdown",
      "source": [
        "## Display a user's balance\n",
        "---\n",
        "Given a user id, display the balance for that user"
      ],
      "metadata": {
        "id": "_6WtR6vUsPn5"
      }
    },
    {
      "cell_type": "code",
      "source": [
        "def get_user_data(user_id, conn):\n",
        "  if does_exist(user_id, conn):\n",
        "    cur = conn.cursor()\n",
        "    query = f\"SELECT balance FROM savings WHERE user_id={str(user_id)}\"\n",
        "    cur.execute(query)\n",
        "    data = cur.fetchone()\n",
        "    return data[0]\n",
        "  else:\n",
        "    return \"User does not exist\"\n",
        "\n",
        "# run the get_user_data function to get the balance data for user id 1\n",
        "balance = get_user_data(1, db_conn)\n",
        "print(balance)"
      ],
      "metadata": {
        "id": "1A1xbXMOssN4",
        "colab": {
          "base_uri": "https://localhost:8080/"
        },
        "outputId": "281142e9-0c0a-4688-f8cc-fa94fa3785d0"
      },
      "execution_count": 14,
      "outputs": [
        {
          "output_type": "stream",
          "name": "stdout",
          "text": [
            "0.0\n"
          ]
        }
      ]
    },
    {
      "cell_type": "markdown",
      "source": [
        "### Add funds\n",
        "---\n",
        "\n",
        "Run the code below to add 15 to the balance for user with user_id 1"
      ],
      "metadata": {
        "id": "6Kk_1X57Sqv-"
      }
    },
    {
      "cell_type": "code",
      "source": [
        "def add_funds(user_id, amount, conn):\n",
        "  if does_exist(user_id, conn):\n",
        "    cur = db_conn.cursor()\n",
        "    query = f\"UPDATE savings SET balance=balance+{str(amount)} WHERE user_id={str(user_id)}\"\n",
        "    cur.execute(query)\n",
        "    data = cur.fetchall()\n",
        "    return f\"Record for user: {str(user_id)} updated - {str(amount)} added\"\n",
        "  else:\n",
        "    return \"User does not exist\"\n",
        "\n",
        "# run the add_funds function to add 15 to the balance for user id 1, then print the result, then print the table to see that it has been added\n",
        "result = add_funds(1, 15, db_conn)\n",
        "print(result)\n",
        "table_data, columns = get_data(db_conn)\n",
        "print(tabulate(table_data, headers=columns))"
      ],
      "metadata": {
        "id": "lugy_SfJUAON",
        "colab": {
          "base_uri": "https://localhost:8080/"
        },
        "outputId": "3af5ea7a-ae05-4e65-c479-2996741ff835"
      },
      "execution_count": 15,
      "outputs": [
        {
          "output_type": "stream",
          "name": "stdout",
          "text": [
            "Record for user: 1 updated - 15 added\n",
            "  user_id    balance\n",
            "---------  ---------\n",
            "        1         15\n"
          ]
        }
      ]
    },
    {
      "cell_type": "markdown",
      "source": [
        "### Remove funds\n",
        "---\n",
        "\n",
        "Run the function below to remove 15 from the balance for user with user_id 1.\n"
      ],
      "metadata": {
        "id": "IP25lSLDWC61"
      }
    },
    {
      "cell_type": "code",
      "source": [
        "def remove_funds(user_id, amount, conn):\n",
        "  if does_exist(user_id, conn):\n",
        "    cur = conn.cursor()\n",
        "    query = f\"UPDATE savings SET balance=balance - {str(amount)} WHERE user_id={str(user_id)}\"\n",
        "    cur.execute(query)\n",
        "    data = cur.fetchall()\n",
        "    return f\"Record for user: {str(user_id)} updated - {str(amount)} removed\"\n",
        "  else:\n",
        "    return \"User does not exist\"\n",
        "\n",
        "# run the remove_funds function to remove 15 from the balance for user_id, print the result and then print the whole table to show that the balance has been removed\n",
        "result = remove_funds(1, 15, db_conn)\n",
        "print(result)\n",
        "table_data, columns = get_data(db_conn)\n",
        "print(tabulate(table_data, headers=columns))"
      ],
      "metadata": {
        "id": "W3Xkl6zBWK_i",
        "colab": {
          "base_uri": "https://localhost:8080/"
        },
        "outputId": "d8ed087f-42d9-4a9a-d395-aeb7f808cc92"
      },
      "execution_count": 16,
      "outputs": [
        {
          "output_type": "stream",
          "name": "stdout",
          "text": [
            "Record for user: 1 updated - 15 removed\n",
            "  user_id    balance\n",
            "---------  ---------\n",
            "        1          0\n"
          ]
        }
      ]
    },
    {
      "cell_type": "markdown",
      "source": [
        "##  Exercise 2 - Have a go\n",
        "---\n",
        "Write a function (call it ```add_user_set()``` that will call the add_new_user(user_id) function to add users with ids from 2 to 10.  \n",
        "\n",
        "**Hint**:  *use a for loop to count from 2 to 10 and add a new user with the count as its id each time*"
      ],
      "metadata": {
        "id": "bdEK3LxNbFtV"
      }
    },
    {
      "cell_type": "code",
      "source": [
        "def add_user_set():\n",
        "  for i in range(2, 11):\n",
        "    add_new_user(i, db_conn)\n",
        "add_user_set()\n",
        "table_data, columns = get_data(db_conn)\n",
        "print(tabulate(table_data, headers=columns))\n"
      ],
      "metadata": {
        "id": "6ezcyt0Lgx5C",
        "colab": {
          "base_uri": "https://localhost:8080/"
        },
        "outputId": "bef144ee-509a-4954-ac7b-9c3b1cddcdca"
      },
      "execution_count": 17,
      "outputs": [
        {
          "output_type": "stream",
          "name": "stdout",
          "text": [
            "User 2 record added\n",
            "User 3 record added\n",
            "User 4 record added\n",
            "User 5 record added\n",
            "User 6 record added\n",
            "User 7 record added\n",
            "User 8 record added\n",
            "User 9 record added\n",
            "User 10 record added\n",
            "  user_id    balance\n",
            "---------  ---------\n",
            "        1          0\n",
            "        2          0\n",
            "        3          0\n",
            "        4          0\n",
            "        5          0\n",
            "        6          0\n",
            "        7          0\n",
            "        8          0\n",
            "        9          0\n",
            "       10          0\n"
          ]
        }
      ]
    },
    {
      "cell_type": "markdown",
      "source": [
        "## Exercise 3 - write a function to remove a user\n",
        "---\n",
        "\n",
        "Write a final function, called remove_user(user_id) that will remove an existing user.  Remember to check that the user exists before removing.  (Base your code on adding a new user but change the query as shown below).  \n",
        "\n",
        "The SQL query for removing a specified `user_id` is:  \n",
        "```query = \"DELETE FROM savings WHERE user_id={str(user_id)}\"```\n",
        "\n"
      ],
      "metadata": {
        "id": "KWSb9Iowhqny"
      }
    },
    {
      "cell_type": "code",
      "source": [
        "def remove_user(user_id, conn):\n",
        "  if does_exist(user_id, conn):\n",
        "    cur = conn.cursor()\n",
        "    query = f\"DELETE FROM savings  WHERE user_id={str(user_id)}\"\n",
        "    cur.execute(query)\n",
        "    db_conn.commit()\n",
        "    print(f\"User {str(user_id)} record removed\")\n",
        "  else:\n",
        "    return \"User does not exist\"\n",
        "remove_user(3, db_conn)\n",
        "table_data, columns = get_data(db_conn)\n",
        "print(tabulate(table_data, headers=columns))"
      ],
      "metadata": {
        "id": "-yYf7cGDjxNj",
        "colab": {
          "base_uri": "https://localhost:8080/"
        },
        "outputId": "34e665f0-c462-44bf-e6a9-2fbddc4975ec"
      },
      "execution_count": 18,
      "outputs": [
        {
          "output_type": "stream",
          "name": "stdout",
          "text": [
            "User 3 record removed\n",
            "  user_id    balance\n",
            "---------  ---------\n",
            "        1          0\n",
            "        2          0\n",
            "        4          0\n",
            "        5          0\n",
            "        6          0\n",
            "        7          0\n",
            "        8          0\n",
            "        9          0\n",
            "       10          0\n"
          ]
        }
      ]
    },
    {
      "cell_type": "markdown",
      "source": [
        "## Exit the app, closing the database connection\n",
        "---\n",
        "All apps that access databases should close the connection on exiting.  This is generally done when a set of processing has been completed and uses the instruction:  \n",
        "\n",
        "```db_conn.close()```\n",
        "\n",
        "where db_conn is the name of the connection to the database."
      ],
      "metadata": {
        "id": "JLX1g6rpW6eG"
      }
    },
    {
      "cell_type": "code",
      "source": [
        "# close and nullify the database connection\n",
        "def exit_app(conn):\n",
        "  conn.close()\n",
        "  conn = None\n",
        "  print(\"Exiting app...\")\n",
        "  return conn\n",
        "\n",
        "db_conn = exit_app(db_conn)"
      ],
      "metadata": {
        "id": "5joZIfuKlReZ",
        "colab": {
          "base_uri": "https://localhost:8080/"
        },
        "outputId": "683f45ec-c291-4418-9abe-c72160fef7ae"
      },
      "execution_count": 19,
      "outputs": [
        {
          "output_type": "stream",
          "name": "stdout",
          "text": [
            "Exiting app...\n"
          ]
        }
      ]
    },
    {
      "cell_type": "markdown",
      "source": [
        "# Exercise 4 - Create a test plan to test the functionality of the example app\n",
        "---\n",
        "\n",
        "## 1.  Functionality testing\n",
        "\n",
        "Now that you have a basic (at least) understanding of the code for this database app, and you have a database created (savings.sqlite) with 9 records already added, devise a testing plan to cover the functionality.\n",
        "\n",
        "The objective of the testing plan is to make the app fail so that you can identify all the areas that need to be improved to make it robust.\n",
        "\n",
        "The code in the next cell is the entire app (excluding the creation of the database which has already been done).\n",
        "\n",
        "Run the code to make the functions active."
      ],
      "metadata": {
        "id": "uldqRjOQJ5hG"
      }
    },
    {
      "cell_type": "code",
      "source": [
        "import sqlite3\n",
        "from tabulate import tabulate\n",
        "\n",
        "# gets a copy of the data from the savings table\n",
        "# ---------------------------------------------------------------------------------------------------------------------------------------------------\n",
        "def get_data(conn):\n",
        "  cur = conn.cursor()\n",
        "  query = \"SELECT * FROM savings\"\n",
        "  cur.execute(query)\n",
        "  data = cur.fetchall()\n",
        "  columns = tuple(map(lambda x: x[0], cur.description))\n",
        "  return data, columns\n",
        "\n",
        "# prints the balance for.   The table will have a number of rows corresponding to the number of users plus a header row.\n",
        "# it will be possible to get a list of users from this table\n",
        "# ---------------------------------------------------------------------------------------------------------------------------------------------------\n",
        "def get_user_data(user_id, conn):\n",
        "  if does_exist(user_id, conn):\n",
        "    cur = conn.cursor()\n",
        "    query = f\"SELECT balance FROM savings WHERE user_id={str(user_id)}\"\n",
        "    cur.execute(query)\n",
        "    data = cur.fetchone()\n",
        "    return data[0]\n",
        "  else:\n",
        "    return \"User does not exist\"\n",
        "\n",
        "# check that a user with a given id does or doesn't exist in the savings table\n",
        "# returns True or False\n",
        "# ---------------------------------------------------------------------------------------------------------------------------------------------------\n",
        "def does_exist(user_id, conn):\n",
        "  cur = conn.cursor()\n",
        "  query = f\"SELECT * FROM savings WHERE user_id = {str(user_id)}\"\n",
        "  cur.execute(query)\n",
        "  data = cur.fetchone()\n",
        "  return data is not None\n",
        "\n",
        "# adds a user with the given id to the savings table\n",
        "# returns a message to confirm that this has happened\n",
        "# ---------------------------------------------------------------------------------------------------------------------------------------------------\n",
        "def add_new_user(user_id, conn):\n",
        "  cur = conn.cursor()\n",
        "  query = f\"INSERT INTO savings(user_id,balance) VALUES({str(user_id)},0)\"\n",
        "  cur.execute(query)\n",
        "  conn.commit()\n",
        "  print(f\"User {str(user_id)} record added\")\n",
        "  return True\n",
        "\n",
        "# removes a user with the given id from the savings table after checking that the user does exist\n",
        "# returns a message to confirm that this has happened or that the user doesn't exist\n",
        "# ----------------------------------------------------------------------------------------------------------------------------------\n",
        "def remove_user(user_id, conn):\n",
        "  if does_exist(user_id, conn):\n",
        "    cur = conn.cursor()\n",
        "    query = f\"DELETE FROM savings WHERE user_id={str(user_id)}\"\n",
        "    cur.execute(query)\n",
        "    print(f\"User {str(user_id)} deleted\")\n",
        "    return True\n",
        "  else:\n",
        "    print(\"User does not exist\")\n",
        "    return False\n",
        "\n",
        "# updates the balance for the given user by adding the given amount onto the balance\n",
        "# returns a message to confirm that this has happened or that the user doesn't exist\n",
        "# ----------------------------------------------------------------------------------------------------------------------------------\n",
        "def add_funds(user_id, amount, conn):\n",
        "  if does_exist(user_id, conn):\n",
        "    cur = conn.cursor()\n",
        "    query = f\"UPDATE savings SET balance=balance+{str(amount)} WHERE user_id={str(user_id)}\"\n",
        "    cur.execute(query)\n",
        "    data = cur.fetchall()\n",
        "    print(f\"Record for user: {str(user_id)} updated - {str(amount)} added\")\n",
        "    return True\n",
        "  else:\n",
        "    print(\"User does not exist\")\n",
        "    return False\n",
        "\n",
        "# updates the balance for the given user by subtracting the given amount from the balance\n",
        "# returns a message to confirm that this has happened or that the user doesn't exist\n",
        "# ----------------------------------------------------------------------------------------------------------------------------------\n",
        "def remove_funds(user_id, amount, conn):\n",
        "  if does_exist(user_id, conn):\n",
        "    cur = conn.cursor()\n",
        "    query = f\"UPDATE savings SET balance=balance - {str(amount)} WHERE user_id={str(user_id)}\"\n",
        "    cur.execute(query)\n",
        "    data = cur.fetchall()\n",
        "    print(f\"Record for user: {str(user_id)} updated - {str(amount)} removed\")\n",
        "    return True\n",
        "  else:\n",
        "    print(\"User does not exist\")\n",
        "    return False\n",
        "\n",
        "# nullifies the connection so that is can't accidentally be used again\n",
        "# ----------------------------------------------------------------------------------------------------------------------------------\n",
        "def exit_app(conn):\n",
        "  conn.close()\n",
        "  conn = None\n",
        "  print(\"Exiting app...\")\n",
        "  return conn"
      ],
      "metadata": {
        "id": "cj3q2y0xmj16"
      },
      "execution_count": 20,
      "outputs": []
    },
    {
      "cell_type": "markdown",
      "source": [
        "The required functionality is:  \n",
        "* view the balance for a given user\n",
        "* view all records in the savings table\n",
        "* add funds for a user\n",
        "* remove funds for a user (funds must not go below 0)\n",
        "* add a new user with a balance of 0\n",
        "* remove a user\n",
        "* exit the app\n",
        "\n"
      ],
      "metadata": {
        "id": "7T6rf5mVpAIP"
      }
    },
    {
      "cell_type": "markdown",
      "source": [
        "### Prepare a new database ready for testing\n",
        "---\n",
        "\n",
        "**FIRST** - delete the file savings.sqlite from this colab's file system (open the file panel, delete the file by clicking on the three dots next to the file name, then select *Delete file*)\n",
        "\n",
        "\n",
        "**THEN** run the code below to recreate the database and table ready for testing."
      ],
      "metadata": {
        "id": "FUS2YhID3ko1"
      }
    },
    {
      "cell_type": "code",
      "source": [
        "#  APP CODE\n",
        "# create the database, add 10 users with starting balances from the list, display the table and exit the app - this code will set up the databse ready for testing.\n",
        "\n",
        "\n",
        "def setup_database(db_conn):\n",
        "  starting_balances = [44,5,42,32,25,5,26,39,45,29]\n",
        "  for id in range(1, 11):\n",
        "      add_new_user(id, db_conn)\n",
        "      add_funds(id, starting_balances[id-1], db_conn)\n",
        "  print(\"test data added\")\n",
        "\n",
        "!!rm /content/savings.sqlite\n",
        "db_conn = create_database(\"/content/savings.sqlite\")\n",
        "setup_database(db_conn)\n",
        "data, columns = get_data(db_conn)\n",
        "print(tabulate(data, headers = columns))\n",
        "exit_app(db_conn)"
      ],
      "metadata": {
        "id": "knHvyO_n3SWR",
        "colab": {
          "base_uri": "https://localhost:8080/"
        },
        "outputId": "9ef2993d-4cce-4be1-b375-24836a5d4c7c"
      },
      "execution_count": 21,
      "outputs": [
        {
          "output_type": "stream",
          "name": "stdout",
          "text": [
            "Database connected and savings table created if it didn't exist already\n",
            "User 1 record added\n",
            "Record for user: 1 updated - 44 added\n",
            "User 2 record added\n",
            "Record for user: 2 updated - 5 added\n",
            "User 3 record added\n",
            "Record for user: 3 updated - 42 added\n",
            "User 4 record added\n",
            "Record for user: 4 updated - 32 added\n",
            "User 5 record added\n",
            "Record for user: 5 updated - 25 added\n",
            "User 6 record added\n",
            "Record for user: 6 updated - 5 added\n",
            "User 7 record added\n",
            "Record for user: 7 updated - 26 added\n",
            "User 8 record added\n",
            "Record for user: 8 updated - 39 added\n",
            "User 9 record added\n",
            "Record for user: 9 updated - 45 added\n",
            "User 10 record added\n",
            "Record for user: 10 updated - 29 added\n",
            "test data added\n",
            "  user_id    balance\n",
            "---------  ---------\n",
            "        1         44\n",
            "        2          5\n",
            "        3         42\n",
            "        4         32\n",
            "        5         25\n",
            "        6          5\n",
            "        7         26\n",
            "        8         39\n",
            "        9         45\n",
            "       10         29\n",
            "Exiting app...\n"
          ]
        }
      ]
    },
    {
      "cell_type": "markdown",
      "source": [
        "## 2.  Your task\n",
        "---\n",
        "Open a copy of this testing document and fill in a full set of test cases.\n",
        "\n",
        "[Testing document](https://docs.google.com/document/d/1zSWvL5Ufx7O0IgSXcEzFqsouXGiNQ3JWelOeGRSHEIM/edit?usp=sharing)\n",
        "\n",
        "Edit in Google drive and share your document (Anyone with the link can view) and add the link in the text box below."
      ],
      "metadata": {
        "id": "FKaLldXWwsh6"
      }
    },
    {
      "cell_type": "markdown",
      "source": [
        "**Double-click on this cell to enable editing**\n",
        "\n",
        "Add the link to your testing plan inside the round brackets [**here**]()"
      ],
      "metadata": {
        "id": "9OVR7THIycWG"
      }
    },
    {
      "cell_type": "markdown",
      "source": [
        "### Test the app following your plan\n",
        "---\n",
        "Use the code cell below to add and run code to run all test cases.  Add a screenshot of any test output that doesn't match the expected output in your testing table.\n",
        "\n",
        "Run the code in the code cell above to make sure that all the functions are available to use.\n",
        "\n",
        "A starter test has been added for you.   Run the code in the cell.  If you don't get the expected outcome, add and remove users as needed until you get this outcome."
      ],
      "metadata": {
        "id": "3and9kUxyuO2"
      }
    },
    {
      "cell_type": "code",
      "source": [
        "# test - view all records in the database - the first line will delete the current database file so that a new one can be\n",
        "db_conn = sqlite3.connect(\"/content/savings.sqlite\")\n",
        "data, columns = get_data(db_conn)\n",
        "print(tabulate(data, headers = columns))"
      ],
      "metadata": {
        "id": "os_7zscU1Jw-",
        "colab": {
          "base_uri": "https://localhost:8080/"
        },
        "outputId": "2390ccde-bbf7-4ad0-d790-352347d431be"
      },
      "execution_count": 22,
      "outputs": [
        {
          "output_type": "stream",
          "name": "stdout",
          "text": [
            "  user_id    balance\n",
            "---------  ---------\n",
            "        1         44\n",
            "        2          5\n",
            "        3         42\n",
            "        4         32\n",
            "        5         25\n",
            "        6          5\n",
            "        7         26\n",
            "        8         39\n",
            "        9         45\n",
            "       10          0\n"
          ]
        }
      ]
    },
    {
      "cell_type": "code",
      "source": [
        "#test 2 View the balance for an valid user\n",
        "get_user_data(1, db_conn)"
      ],
      "metadata": {
        "colab": {
          "base_uri": "https://localhost:8080/"
        },
        "id": "oQde7H0iGBcS",
        "outputId": "86fa6004-df80-4b98-869c-b051f60c0530"
      },
      "execution_count": 23,
      "outputs": [
        {
          "output_type": "execute_result",
          "data": {
            "text/plain": [
              "44.0"
            ]
          },
          "metadata": {},
          "execution_count": 23
        }
      ]
    },
    {
      "cell_type": "code",
      "source": [
        "#test 3 View the balance for a non-valid user\n",
        "get_user_data(15, db_conn)"
      ],
      "metadata": {
        "colab": {
          "base_uri": "https://localhost:8080/",
          "height": 36
        },
        "id": "GTH-X4ZAWRjB",
        "outputId": "268052a9-cef3-43fe-a1e1-8a3627ab39b5"
      },
      "execution_count": 24,
      "outputs": [
        {
          "output_type": "execute_result",
          "data": {
            "text/plain": [
              "'User does not exist'"
            ],
            "application/vnd.google.colaboratory.intrinsic+json": {
              "type": "string"
            }
          },
          "metadata": {},
          "execution_count": 24
        }
      ]
    },
    {
      "cell_type": "code",
      "source": [
        "#test4 View the balance with an incorrect data type - this code works with string too, not letters\n",
        "get_user_data(\"1\", db_conn)"
      ],
      "metadata": {
        "colab": {
          "base_uri": "https://localhost:8080/"
        },
        "id": "TfIKUIpoWijV",
        "outputId": "b01e1c72-296b-484e-b4fc-c6372a1ad236"
      },
      "execution_count": 25,
      "outputs": [
        {
          "output_type": "execute_result",
          "data": {
            "text/plain": [
              "44.0"
            ]
          },
          "metadata": {},
          "execution_count": 25
        }
      ]
    },
    {
      "cell_type": "code",
      "source": [
        "#test5 Add new user with id 1 - Failure\n",
        "add_new_user(1, db_conn)"
      ],
      "metadata": {
        "colab": {
          "base_uri": "https://localhost:8080/",
          "height": 327
        },
        "id": "DqKAaKfDWqPn",
        "outputId": "2b0b0925-6274-4d7e-cb4a-f9fe759f0211"
      },
      "execution_count": 26,
      "outputs": [
        {
          "output_type": "error",
          "ename": "IntegrityError",
          "evalue": "UNIQUE constraint failed: savings.user_id",
          "traceback": [
            "\u001b[0;31m---------------------------------------------------------------------------\u001b[0m",
            "\u001b[0;31mIntegrityError\u001b[0m                            Traceback (most recent call last)",
            "\u001b[0;32m<ipython-input-26-dcaf7494179f>\u001b[0m in \u001b[0;36m<cell line: 2>\u001b[0;34m()\u001b[0m\n\u001b[1;32m      1\u001b[0m \u001b[0;31m#test5 Add new user with id 1 - Failure\u001b[0m\u001b[0;34m\u001b[0m\u001b[0;34m\u001b[0m\u001b[0m\n\u001b[0;32m----> 2\u001b[0;31m \u001b[0madd_new_user\u001b[0m\u001b[0;34m(\u001b[0m\u001b[0;36m1\u001b[0m\u001b[0;34m,\u001b[0m \u001b[0mdb_conn\u001b[0m\u001b[0;34m)\u001b[0m\u001b[0;34m\u001b[0m\u001b[0;34m\u001b[0m\u001b[0m\n\u001b[0m",
            "\u001b[0;32m<ipython-input-20-26580e900695>\u001b[0m in \u001b[0;36madd_new_user\u001b[0;34m(user_id, conn)\u001b[0m\n\u001b[1;32m     41\u001b[0m   \u001b[0mcur\u001b[0m \u001b[0;34m=\u001b[0m \u001b[0mconn\u001b[0m\u001b[0;34m.\u001b[0m\u001b[0mcursor\u001b[0m\u001b[0;34m(\u001b[0m\u001b[0;34m)\u001b[0m\u001b[0;34m\u001b[0m\u001b[0;34m\u001b[0m\u001b[0m\n\u001b[1;32m     42\u001b[0m   \u001b[0mquery\u001b[0m \u001b[0;34m=\u001b[0m \u001b[0;34mf\"INSERT INTO savings(user_id,balance) VALUES({str(user_id)},0)\"\u001b[0m\u001b[0;34m\u001b[0m\u001b[0;34m\u001b[0m\u001b[0m\n\u001b[0;32m---> 43\u001b[0;31m   \u001b[0mcur\u001b[0m\u001b[0;34m.\u001b[0m\u001b[0mexecute\u001b[0m\u001b[0;34m(\u001b[0m\u001b[0mquery\u001b[0m\u001b[0;34m)\u001b[0m\u001b[0;34m\u001b[0m\u001b[0;34m\u001b[0m\u001b[0m\n\u001b[0m\u001b[1;32m     44\u001b[0m   \u001b[0mconn\u001b[0m\u001b[0;34m.\u001b[0m\u001b[0mcommit\u001b[0m\u001b[0;34m(\u001b[0m\u001b[0;34m)\u001b[0m\u001b[0;34m\u001b[0m\u001b[0;34m\u001b[0m\u001b[0m\n\u001b[1;32m     45\u001b[0m   \u001b[0mprint\u001b[0m\u001b[0;34m(\u001b[0m\u001b[0;34mf\"User {str(user_id)} record added\"\u001b[0m\u001b[0;34m)\u001b[0m\u001b[0;34m\u001b[0m\u001b[0;34m\u001b[0m\u001b[0m\n",
            "\u001b[0;31mIntegrityError\u001b[0m: UNIQUE constraint failed: savings.user_id"
          ]
        }
      ]
    },
    {
      "cell_type": "code",
      "source": [
        "#test6 Remove funds for a user (funds must not go below 0)\n",
        "remove_funds(1, 100, db_conn)"
      ],
      "metadata": {
        "colab": {
          "base_uri": "https://localhost:8080/"
        },
        "id": "I4bDsAy5W8ky",
        "outputId": "6c64fdb8-e16e-415b-d992-e7d1d3a544c6"
      },
      "execution_count": 27,
      "outputs": [
        {
          "output_type": "stream",
          "name": "stdout",
          "text": [
            "Record for user: 1 updated - 100 removed\n"
          ]
        },
        {
          "output_type": "execute_result",
          "data": {
            "text/plain": [
              "True"
            ]
          },
          "metadata": {},
          "execution_count": 27
        }
      ]
    },
    {
      "cell_type": "code",
      "source": [
        "#end of test6\n",
        "get_user_data(1, db_conn)"
      ],
      "metadata": {
        "colab": {
          "base_uri": "https://localhost:8080/"
        },
        "id": "vyZsNMiTanPw",
        "outputId": "3be17a0c-da9d-4dad-aab2-7959283cdd8d"
      },
      "execution_count": 28,
      "outputs": [
        {
          "output_type": "execute_result",
          "data": {
            "text/plain": [
              "-56.0"
            ]
          },
          "metadata": {},
          "execution_count": 28
        }
      ]
    },
    {
      "cell_type": "code",
      "source": [
        "#test7  Remove a user\n",
        "remove_user(2, db_conn)"
      ],
      "metadata": {
        "colab": {
          "base_uri": "https://localhost:8080/"
        },
        "id": "CAlR_JvNcMwz",
        "outputId": "17934d2e-e135-4674-89ac-1a1d549a6529"
      },
      "execution_count": 29,
      "outputs": [
        {
          "output_type": "stream",
          "name": "stdout",
          "text": [
            "User 2 deleted\n"
          ]
        },
        {
          "output_type": "execute_result",
          "data": {
            "text/plain": [
              "True"
            ]
          },
          "metadata": {},
          "execution_count": 29
        }
      ]
    },
    {
      "cell_type": "code",
      "source": [
        "#test8 Add a new user with a balance of 0\n",
        "add_funds(10, 100, db_conn)"
      ],
      "metadata": {
        "colab": {
          "base_uri": "https://localhost:8080/"
        },
        "id": "TUHFhLrIcbix",
        "outputId": "a3182c54-66b6-4baf-cfe0-b96ac8c9fd18"
      },
      "execution_count": 30,
      "outputs": [
        {
          "output_type": "stream",
          "name": "stdout",
          "text": [
            "Record for user: 10 updated - 100 added\n"
          ]
        },
        {
          "output_type": "execute_result",
          "data": {
            "text/plain": [
              "True"
            ]
          },
          "metadata": {},
          "execution_count": 30
        }
      ]
    },
    {
      "cell_type": "code",
      "source": [
        "#end of test8\n",
        "add_new_user(12,db_conn)\n",
        "get_user_data(12, db_conn)"
      ],
      "metadata": {
        "colab": {
          "base_uri": "https://localhost:8080/"
        },
        "id": "3_t4JYH0c5z1",
        "outputId": "d9074365-2bc4-476d-9463-b9a0a045445c"
      },
      "execution_count": 31,
      "outputs": [
        {
          "output_type": "stream",
          "name": "stdout",
          "text": [
            "User 12 record added\n"
          ]
        },
        {
          "output_type": "execute_result",
          "data": {
            "text/plain": [
              "0.0"
            ]
          },
          "metadata": {},
          "execution_count": 31
        }
      ]
    },
    {
      "cell_type": "code",
      "source": [
        "#test9 Remove funds greater than the balance  from user and check balance\n",
        "remove_funds(12, 50, db_conn)"
      ],
      "metadata": {
        "colab": {
          "base_uri": "https://localhost:8080/"
        },
        "id": "Z1luSwZ_fLAZ",
        "outputId": "c3fbb537-36af-4d71-b195-5a7e41d9f5ac"
      },
      "execution_count": 33,
      "outputs": [
        {
          "output_type": "stream",
          "name": "stdout",
          "text": [
            "Record for user: 12 updated - 50 removed\n"
          ]
        },
        {
          "output_type": "execute_result",
          "data": {
            "text/plain": [
              "True"
            ]
          },
          "metadata": {},
          "execution_count": 33
        }
      ]
    },
    {
      "cell_type": "code",
      "source": [
        "#end of test9\n",
        "get_user_data(12, db_conn)"
      ],
      "metadata": {
        "colab": {
          "base_uri": "https://localhost:8080/"
        },
        "id": "lWw8IslGflSb",
        "outputId": "5199c649-3778-487c-da75-8659968aa3eb"
      },
      "execution_count": 34,
      "outputs": [
        {
          "output_type": "execute_result",
          "data": {
            "text/plain": [
              "-50.0"
            ]
          },
          "metadata": {},
          "execution_count": 34
        }
      ]
    },
    {
      "cell_type": "code",
      "source": [
        "#test10 Exit the app\n",
        "exit_app(db_conn)"
      ],
      "metadata": {
        "colab": {
          "base_uri": "https://localhost:8080/"
        },
        "id": "Wwh40FmJYAW9",
        "outputId": "77f1951e-78a7-4553-ea92-5c1fc907dea9"
      },
      "execution_count": 35,
      "outputs": [
        {
          "output_type": "stream",
          "name": "stdout",
          "text": [
            "Exiting app...\n"
          ]
        }
      ]
    }
  ]
}