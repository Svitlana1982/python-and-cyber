{
  "cells": [
    {
      "cell_type": "markdown",
      "metadata": {
        "id": "view-in-github",
        "colab_type": "text"
      },
      "source": [
        "<a href=\"https://colab.research.google.com/github/Svitlana1982/python-and-cyber/blob/main/Copy_of_PythonListsAndDictionaries_Challenges.ipynb\" target=\"_parent\"><img src=\"https://colab.research.google.com/assets/colab-badge.svg\" alt=\"Open In Colab\"/></a>"
      ]
    },
    {
      "cell_type": "markdown",
      "metadata": {
        "id": "Vvcpt-18AqVE"
      },
      "source": [
        "<a href=\"https://colab.research.google.com/github/StefanMeyer7/Python-Fundamentals/blob/main/PythonListsAndDictionaries_Challenges.ipynb\" target=\"_parent\"><img src=\"https://colab.research.google.com/assets/colab-badge.svg\" alt=\"Open In Colab\"/></a>"
      ]
    },
    {
      "cell_type": "markdown",
      "metadata": {
        "id": "W4CdIbiFfeG3"
      },
      "source": [
        "# Some challenges to help you become more confident with using Lists, Tuples and Dictionaries\n",
        "\n",
        "---\n",
        "\n"
      ]
    },
    {
      "cell_type": "markdown",
      "metadata": {
        "id": "WaIu0Ye9ffOl"
      },
      "source": [
        "### Exercise 1 - extending a list\n",
        "\n",
        "There are three ways to extend a list in Python:  \n",
        "*  use `list_name.append(item)`, `list_name.insert(item)`\n",
        "*  concatenate two lists using the + operator (e.g. new_list = list1 + list2)\n",
        "*  use `list1_name.extend(list2_name)`\n",
        "\n",
        "The last method allows us to add all the `list2` items onto `list1` and for the new, extended list to now be `list1`.  `list2` will always be added to the end of `list1`.  \n",
        "\n",
        "If the objective is to add list2 before list1 then use `list2.extend(list1)`\n",
        "\n",
        "Write a function which will:  \n",
        "*  create a list of **years** containing the years 1960, 1970, 1980, 1990, 2000  \n",
        "*  print the list of years  \n",
        "*  calculate how long ago each year was and print the year and how long ago it was (e.g. 1990 was 30 years ago)  *(Hint:  use the datetime library to get the current year)*   \n",
        "*  create a second list, **years2** containing the years 2010 and 2020, extend `years` to include these later years\n",
        "*  create a third list, **years3** containing the years 1930, 1940 and 1950 and extend the list to include all the years between 1930 and 2020\n",
        "*  print the final list\n",
        "\n",
        "Expected output:  \n",
        "[1960, 1970, 1980, 1990]  \n",
        "1960 was 61 years ago  \n",
        "1970 was 51 years ago  \n",
        "1980 was 41 years ago  \n",
        "1990 was 31 years ago  \n",
        "2000 was 21 years ago  \n",
        "[1930, 1940, 1950, 1960, 1970, 1980, 1990, 2000, 2010, 2020]"
      ]
    },
    {
      "cell_type": "code",
      "execution_count": null,
      "metadata": {
        "id": "WttlqF5-ffyw",
        "colab": {
          "base_uri": "https://localhost:8080/"
        },
        "outputId": "1d81239e-af02-415d-d6b9-f5ce99b6948c"
      },
      "outputs": [
        {
          "output_type": "stream",
          "name": "stdout",
          "text": [
            "[1960, 1970, 1980, 1990, 2000]\n",
            "1960 was 64 years ago\n",
            "1970 was 54 years ago\n",
            "1980 was 44 years ago\n",
            "1990 was 34 years ago\n",
            "2000 was 24 years ago\n",
            "[1930, 1940, 1950, 1960, 1970, 1980, 1990, 2000, 2010, 2020]\n"
          ]
        }
      ],
      "source": [
        "from datetime import datetime\n",
        "\n",
        "def process_years():\n",
        "    years = [1960, 1970, 1980, 1990, 2000]\n",
        "    print(years)\n",
        "\n",
        "    current_year = datetime.now().year\n",
        "\n",
        "    for year in years:\n",
        "        years_ago = current_year - year\n",
        "        print(f\"{year} was {years_ago} years ago\")\n",
        "\n",
        "    years2 = [2010, 2020]\n",
        "    years.extend(years2)\n",
        "\n",
        "    years3 = [1930, 1940, 1950]\n",
        "    years3.extend(years)\n",
        "    print(years3)\n",
        "\n",
        "process_years()"
      ]
    },
    {
      "cell_type": "markdown",
      "metadata": {
        "id": "ORhAOgBLfg04"
      },
      "source": [
        "---\n",
        "### Exercise 2 - creating a dictionary from a tuple and three lists\n",
        "\n",
        "Write a function which will create a list of dictionary items using the values in a tuple as the dictionary keys and the values in three corresponding lists as the dictionary values.\n",
        "\n",
        "*  loop through the status items in the tuple called task_status\n",
        "*  for each status, loop through the list with the same name (*Hint:  you can use eval(status) to access the list with the matching name  e.g. for task in eval(status)* )\n",
        "*  each time round this second loop, create a dictionary object with the  key:value pair {status : task}\n",
        "*  add each new dictionary to a list called **project_board** that was created as an empty list before the loops  \n",
        "*  print the project_board list\n",
        "\n",
        "Expected output:  \n",
        "\n",
        "[{'assigned': 'task1'}, {'assigned': 'task2'}, {'assigned': 'task3'}, {'inprogress': 'task4'}, {'inprogress': 'task5'}, {'inprogress': 'task6'}, {'completed': 'task7'}, {'completed': 'task8'}, {'completed': 'task9'}]\n",
        "\n"
      ]
    },
    {
      "cell_type": "code",
      "execution_count": 5,
      "metadata": {
        "id": "1Cxi97h8fiB6",
        "colab": {
          "base_uri": "https://localhost:8080/"
        },
        "outputId": "b977ed52-0b15-4a1e-b389-eefaf605e156"
      },
      "outputs": [
        {
          "output_type": "execute_result",
          "data": {
            "text/plain": [
              "[{'assigned': 'task1'},\n",
              " {'assigned': 'task2'},\n",
              " {'assigned': 'task3'},\n",
              " {'inprogress': 'task4'},\n",
              " {'inprogress': 'task5'},\n",
              " {'inprogress': 'task6'},\n",
              " {'completed': 'task7'},\n",
              " {'completed': 'task8'},\n",
              " {'completed': 'task9'}]"
            ]
          },
          "metadata": {},
          "execution_count": 5
        }
      ],
      "source": [
        "def create_project_board():\n",
        "  task_status = (\"assigned\", \"inprogress\", \"completed\")\n",
        "  assigned = ['task1','task2','task3']\n",
        "  inprogress = ['task4','task5','task6']\n",
        "  completed = ['task7','task8','task9']\n",
        "  #  add your code below here\n",
        "  project_board = []\n",
        "  for status in task_status:\n",
        "      task_list = eval(status)\n",
        "      for task in task_list:\n",
        "          project_board.append({status: task})\n",
        "  return project_board\n",
        "create_project_board()"
      ]
    },
    {
      "cell_type": "markdown",
      "metadata": {
        "id": "G66tj6DFfj2r"
      },
      "source": [
        "---\n",
        "### Exercise 3 - names and heights\n",
        "\n",
        "Write a function which will allow a user to enter the names and heights of a set of people and add each set of information as a record (dictionary) to a list. The function will stop collecting names and heights when the user enters \"STOP\" as the name.\n",
        "\n",
        "Then, the function will:  \n",
        "\n",
        "*   produce a list of names in order of the shortest person to the tallest\n",
        "*   calculate the name of the tallest person\n",
        "*   calculate the name of the shortest person\n",
        "*   calculate the average height\n",
        "*   calculate the name of the person who is closest to the average height\n",
        "\n",
        "\n",
        "\n",
        "\n"
      ]
    },
    {
      "cell_type": "code",
      "execution_count": 6,
      "metadata": {
        "id": "5Mrul19ufkd2",
        "colab": {
          "base_uri": "https://localhost:8080/"
        },
        "outputId": "9f2554ab-f898-4312-8add-927709be8565"
      },
      "outputs": [
        {
          "output_type": "stream",
          "name": "stdout",
          "text": [
            "Enter the name (type 'STOP' to finish): Jonh Dow\n",
            "Enter the height (in cm): 170\n",
            "Enter the name (type 'STOP' to finish): Sarah Wong\n",
            "Enter the height (in cm): 180\n",
            "Enter the name (type 'STOP' to finish): STOP\n",
            "Names in order of the shortest to the tallest:\n",
            "Jonh Dow\n",
            "Sarah Wong\n",
            "Tallest person: Sarah Wong\n",
            "Shortest person: Jonh Dow\n",
            "Average height: 175.00 cm\n",
            "Person closest to the average height: Jonh Dow\n"
          ]
        }
      ],
      "source": [
        "def collect_person_info():\n",
        "    people_records = []\n",
        "\n",
        "    while True:\n",
        "        name = input(\"Enter the name (type 'STOP' to finish): \")\n",
        "        if name.upper() == 'STOP':\n",
        "            break\n",
        "        height = float(input(\"Enter the height (in cm): \"))\n",
        "        person_record = {'name': name, 'height': height}\n",
        "        people_records.append(person_record)\n",
        "    return people_records\n",
        "\n",
        "def analyze_person_info(records):\n",
        "    if not records:\n",
        "        print(\"No records to analyze.\")\n",
        "        return\n",
        "\n",
        "    sorted_records = sorted(records, key=lambda x: x['height'])\n",
        "    print(\"Names in order of the shortest to the tallest:\")\n",
        "    for record in sorted_records:\n",
        "        print(record['name'])\n",
        "    tallest_person = sorted_records[-1]['name']\n",
        "    print(f\"Tallest person: {tallest_person}\")\n",
        "    shortest_person = sorted_records[0]['name']\n",
        "    print(f\"Shortest person: {shortest_person}\")\n",
        "    average_height = sum(record['height'] for record in records) / len(records)\n",
        "    print(f\"Average height: {average_height:.2f} cm\")\n",
        "    closest_person = min(records, key=lambda x: abs(x['height'] - average_height))\n",
        "    print(f\"Person closest to the average height: {closest_person['name']}\")\n",
        "\n",
        "records = collect_person_info()\n",
        "analyze_person_info(records)"
      ]
    }
  ],
  "metadata": {
    "colab": {
      "provenance": [],
      "include_colab_link": true
    },
    "kernelspec": {
      "display_name": "Python 3",
      "name": "python3"
    },
    "language_info": {
      "name": "python"
    }
  },
  "nbformat": 4,
  "nbformat_minor": 0
}