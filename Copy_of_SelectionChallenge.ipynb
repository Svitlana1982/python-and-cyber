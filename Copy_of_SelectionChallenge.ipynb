{
  "nbformat": 4,
  "nbformat_minor": 0,
  "metadata": {
    "colab": {
      "provenance": [],
      "include_colab_link": true
    },
    "kernelspec": {
      "name": "python3",
      "display_name": "Python 3"
    },
    "language_info": {
      "name": "python"
    }
  },
  "cells": [
    {
      "cell_type": "markdown",
      "metadata": {
        "id": "view-in-github",
        "colab_type": "text"
      },
      "source": [
        "<a href=\"https://colab.research.google.com/github/Svitlana1982/python-and-cyber/blob/main/Copy_of_SelectionChallenge.ipynb\" target=\"_parent\"><img src=\"https://colab.research.google.com/assets/colab-badge.svg\" alt=\"Open In Colab\"/></a>"
      ]
    },
    {
      "cell_type": "markdown",
      "source": [
        "<a href=\"https://colab.research.google.com/github/StefanMeyer7/Python-Fundamentals/blob/main/SelectionChallenge.ipynb\" target=\"_parent\"><img src=\"https://colab.research.google.com/assets/colab-badge.svg\" alt=\"Open In Colab\"/></a>"
      ],
      "metadata": {
        "id": "hypbENCo_DGn"
      }
    },
    {
      "cell_type": "markdown",
      "source": [
        "# Three selection challenges\n",
        "\n",
        "---\n"
      ],
      "metadata": {
        "id": "dXBVr9XG_X_R"
      }
    },
    {
      "cell_type": "markdown",
      "source": [
        "### Challenge 1 - password format  \n",
        "\n",
        "Write a function called **check_password_valid()** which will check the validity of a **password** input by a user.\n",
        "\n",
        "Rules for a valid password are:  \n",
        "\n",
        "*  At least 1 letter between [a-z] and 1 letter between [A-Z].\n",
        "*  At least 1 number between [0-9].\n",
        "*  At least 1 character from [$#@].\n",
        "*  Minimum length 6 characters.\n",
        "*  Maximum length 16 characters.  \n",
        "\n",
        "Let the user know if the `password` they have typed is valid and, if not, where was the first error.\n",
        "\n",
        "*Hint:  to test if a set of characters is present in a password String, you can use re.search('[character set]', `password`)*  \n",
        "\n",
        "Example:   \n",
        "*if re.search('[a-z]',`password`):*    \n",
        "if there is at least 1 character a-z in the password, re.search will not be None.\n",
        "\n",
        "**re** is a pre-written Python function for pattern searching in Strings.  It has been imported for you in the code cell below.  "
      ],
      "metadata": {
        "id": "_6gwhxsa_Yqt"
      }
    },
    {
      "cell_type": "code",
      "source": [
        "import re\n",
        "\n",
        "# add your check_PasswordValid() function and call below here\n",
        "def check_password_valid(password):\n",
        "  if not re.search('[a-z]', password):\n",
        "    print(\"Password must contain at least 1 lowercase letter.\")\n",
        "  if not re.search('[A-Z]', password):\n",
        "    print(\"Password must contain at least 1 uppercase letter.\")\n",
        "  if not re.search('[0-9]', password):\n",
        "    print(\"Password must contain at least 1 digit.\")\n",
        "  if not re.search('[$#@]', password):\n",
        "    print(\"Password must contain at least 1 special character ($, #, or @).\")\n",
        "  if len(password) < 6:\n",
        "    print(\"Password must be at least 6 characters long.\")\n",
        "  if len(password) > 16:\n",
        "    print(\"Password must be at most 16 characters long.\")\n",
        "  else:\n",
        "    print(\"Password is valid.\")\n",
        "user_input_password = input(\"Please enter your password: \")\n",
        "result = check_password_valid(user_input_password)\n",
        "print(result)\n"
      ],
      "metadata": {
        "id": "LbgP53vJ_a2T",
        "colab": {
          "base_uri": "https://localhost:8080/"
        },
        "outputId": "0d86cf97-318f-469a-ea2e-2991e670694f"
      },
      "execution_count": 4,
      "outputs": [
        {
          "output_type": "stream",
          "name": "stdout",
          "text": [
            "Please enter your password: hilh;\n",
            "Password must contain at least 1 uppercase letter.\n",
            "Password must contain at least 1 digit.\n",
            "Password must contain at least 1 special character ($, #, or @).\n",
            "Password must be at least 6 characters long.\n",
            "Password is valid.\n",
            "None\n"
          ]
        }
      ]
    },
    {
      "cell_type": "markdown",
      "source": [
        "---\n",
        "### Challenge 2 - triangle shape  \n",
        "\n",
        "Write a function called **evaluate_triangle_shape()** which will check if a triangle is equilateral, isosceles or scalene, based on the three side lengths entered by a user (**x**, **y** and **z**).\n",
        "\n",
        "An equilateral triangle is a triangle in which all three sides are equal.\n",
        "A scalene triangle is a triangle that has three unequal sides.\n",
        "An isosceles triangle is a triangle with (at least) two equal sides.\n",
        "\n",
        "For example:  \n",
        "A triange with side lengths                                 \n",
        "x: 6                                                                    \n",
        "y: 8                                                                    \n",
        "z: 12                                                                   \n",
        "is a *Scalene triangle*\n",
        "\n",
        "A triangle with side lengths\n",
        "x:5  \n",
        "y:3   \n",
        "z:5  \n",
        "is an *Isosceles triangle*"
      ],
      "metadata": {
        "id": "ItfugXAk_cJI"
      }
    },
    {
      "cell_type": "code",
      "source": [
        "def evaluate_triangle_shape(x, y, z):\n",
        "  if x + y <= z or x + z <= y or y + z <= x:\n",
        "    print(\"is an Invalid triangle\")\n",
        "  if x == y == z:\n",
        "    print(\"is an Equilateral triangle\")\n",
        "  if x == y or x == z or y == z:\n",
        "    print(\"is an Isosceles triangle\")\n",
        "  else:\n",
        "    print(\"is a Scalene triangle\")\n",
        "x = float(input(\"Please enter the length of side x: \"))\n",
        "y = float(input(\"Please enter the length of side y: \"))\n",
        "z = float(input(\"Please enter the length of side z: \"))\n",
        "result = evaluate_triangle_shape(x, y, z)\n",
        "print(result)\n"
      ],
      "metadata": {
        "id": "YhvNRSrR_fwV",
        "colab": {
          "base_uri": "https://localhost:8080/"
        },
        "outputId": "5e252de1-c29b-4373-a3a2-f1f3a92cbd68"
      },
      "execution_count": 10,
      "outputs": [
        {
          "output_type": "stream",
          "name": "stdout",
          "text": [
            "Please enter the length of side x: 5\n",
            "Please enter the length of side y: 3\n",
            "Please enter the length of side z: 5\n",
            "is an Isosceles triangle\n",
            "None\n"
          ]
        }
      ]
    },
    {
      "cell_type": "markdown",
      "source": [
        "---\n",
        "### Challenge 3 - which season\n",
        "\n",
        "Write a function called **determine_season()** which will ask the user to enter two integers representing a **month** and **day** and prints the season for that month and day.\n",
        "\n",
        "Note:  for this exercise the season dates are:\n",
        "*  Winter December 21 to March 20    \n",
        "*  Spring March 21 to June 20  \n",
        "*  Summer June 21 to September 20  \n",
        "*  Autumn September 21 to December 20\n",
        "\n",
        "Test input:  \n",
        "Input the month (e.g. January, February etc.): 7                     \n",
        "Input the day: 31                                                       \n",
        "\n",
        "Expected output:  \n",
        "Season is summer\n",
        "\n",
        "*Note: this will require multiple and or or operators and you should use brackets to help Python know which operations to do first*  \n",
        "\n",
        "*For an extra challenge you can check that the day is valid for the month*"
      ],
      "metadata": {
        "id": "DEy3P3-O_gsI"
      }
    },
    {
      "cell_type": "code",
      "source": [
        "def determine_season(month, day):\n",
        "  if not 1 <= month <= 12:\n",
        "      print(\"Invalid month. Month should be between 1 and 12.\")\n",
        "  if not 1 <= day <= 31:\n",
        "      print(\"Invalid day. Day should be between 1 and 31.\")\n",
        "  if (month == 12 and day >= 21) or (month <= 3 and day <= 20):\n",
        "      season = \"Winter\"\n",
        "  elif (month == 3 and day >= 21) or (4 <= month <= 6):\n",
        "      season = \"Spring\"\n",
        "  elif (month == 6 and day >= 21) or (7 <= month <= 9):\n",
        "      season = \"Summer\"\n",
        "  else:\n",
        "      season = \"Autumn\"\n",
        "  print(\"The season is \", season)\n",
        "month_input = int(input(\"Input the month (e.g. January - 1, February - 2 etc.): \"))\n",
        "day_input = int(input(\"Input the day: \"))\n",
        "\n",
        "result = determine_season(month_input, day_input)\n",
        "print(result)"
      ],
      "metadata": {
        "id": "5hKAawCu_iln",
        "colab": {
          "base_uri": "https://localhost:8080/"
        },
        "outputId": "c7d4a45d-8684-4ffd-d3e9-fed0cd25975e"
      },
      "execution_count": 12,
      "outputs": [
        {
          "output_type": "stream",
          "name": "stdout",
          "text": [
            "Input the month (e.g. January - 1, February - 2 etc.): 2\n",
            "Input the day: 15\n",
            "The season is  Winter\n",
            "None\n"
          ]
        }
      ]
    }
  ]
}