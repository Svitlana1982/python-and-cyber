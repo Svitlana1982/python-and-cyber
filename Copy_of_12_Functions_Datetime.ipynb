{
  "nbformat": 4,
  "nbformat_minor": 0,
  "metadata": {
    "colab": {
      "provenance": [],
      "include_colab_link": true
    },
    "kernelspec": {
      "name": "python3",
      "display_name": "Python 3"
    },
    "language_info": {
      "name": "python"
    }
  },
  "cells": [
    {
      "cell_type": "markdown",
      "metadata": {
        "id": "view-in-github",
        "colab_type": "text"
      },
      "source": [
        "<a href=\"https://colab.research.google.com/github/Svitlana1982/python-and-cyber/blob/main/Copy_of_12_Functions_Datetime.ipynb\" target=\"_parent\"><img src=\"https://colab.research.google.com/assets/colab-badge.svg\" alt=\"Open In Colab\"/></a>"
      ]
    },
    {
      "cell_type": "markdown",
      "metadata": {
        "id": "7iQyKP-SQiw1"
      },
      "source": [
        "# User-defined functions using datetime library\n",
        "\n",
        "---\n"
      ]
    },
    {
      "cell_type": "markdown",
      "metadata": {
        "id": "Vi93h5I4QnKs"
      },
      "source": [
        "When working with dates and times, fairly common in data sets, we need to be able to extract certain bits of information.  \n",
        "\n",
        "In Python, as with other languages, dates and times are stored in a data structure that combines the two together and stores the information as a number of seconds since a start point (often 1st January 1900).  This is obviously a large number but every bit of information about a date can be extracted from it and used to give a wide range of information.  \n",
        "\n",
        "Have a go at the exercises below to use a selection of datetime functions and return a new bit of data from each, to be printed by the caller.\n",
        "\n",
        "Before you can use datetime functions you will need to import them. Import the datetime functions like this:\n",
        "\n",
        "`from datetime import datetime`  \n",
        "\n",
        "\n",
        "For more information about datetime functions visit [w3Schools-Python datetime](https://www.w3schools.com/python/python_datetime.asp) and [Python docs](https://docs.python.org/3/library/datetime.html)"
      ]
    },
    {
      "cell_type": "markdown",
      "metadata": {
        "id": "MIDLi7CNR034"
      },
      "source": [
        "---\n",
        "### Exercise 1 - print current date and time\n",
        "\n",
        "Write a function that will return the date and time now.  The caller will print it.  \n",
        "\n",
        "*Hint:  the format has been added for you, the other exercises will follow a similar format.   Always remember to import datetime from datetime as shown below*"
      ]
    },
    {
      "cell_type": "code",
      "metadata": {
        "id": "gS6GJdXbQfHp",
        "colab": {
          "base_uri": "https://localhost:8080/"
        },
        "outputId": "85fcca5b-6194-4a62-c565-6dea515f654d"
      },
      "source": [
        "from datetime import datetime, timezone\n",
        "# add your function, called get_datetime_now() below here\n",
        "def get_datetime_now():\n",
        "    now_date_time = datetime.now()\n",
        "    return now_date_time\n",
        "now_date_time = get_datetime_now()\n",
        "print(now_date_time)"
      ],
      "execution_count": 4,
      "outputs": [
        {
          "output_type": "stream",
          "name": "stdout",
          "text": [
            "2024-01-07 19:38:40.459010\n"
          ]
        }
      ]
    },
    {
      "cell_type": "markdown",
      "metadata": {
        "id": "Yy24sL0bUtpF"
      },
      "source": [
        "---\n",
        "Exercise 2 - print the current year\n",
        "\n",
        "Write a function that will return the current year.  The caller will print the year."
      ]
    },
    {
      "cell_type": "code",
      "metadata": {
        "id": "YqlQqPIqUtyr",
        "colab": {
          "base_uri": "https://localhost:8080/"
        },
        "outputId": "3dd235a7-369d-46a1-ea99-314ea3627a04"
      },
      "source": [
        "from datetime import datetime\n",
        "\n",
        "def get_current_year():\n",
        "    current_year = datetime.now().year\n",
        "    return current_year\n",
        "current_year = get_current_year()\n",
        "print(current_year)"
      ],
      "execution_count": 5,
      "outputs": [
        {
          "output_type": "stream",
          "name": "stdout",
          "text": [
            "2024\n"
          ]
        }
      ]
    },
    {
      "cell_type": "markdown",
      "metadata": {
        "id": "FzSVCaJKV1O1"
      },
      "source": [
        "---\n",
        "### Exercise 3 - print the current day of the week\n",
        "\n",
        "Write a function that will return the current day of the week.  The caller will print it."
      ]
    },
    {
      "cell_type": "code",
      "metadata": {
        "id": "OP4ZIXBWV1Yj",
        "colab": {
          "base_uri": "https://localhost:8080/"
        },
        "outputId": "e5a3fbb6-34ff-4e21-8c48-902b2e055573"
      },
      "source": [
        "from datetime import datetime\n",
        "\n",
        "def get_current_day_of_week():\n",
        "    current_day_of_week = datetime.now().strftime(\"%A\")\n",
        "    return current_day_of_week\n",
        "current_day = get_current_day_of_week()\n",
        "print(current_day)"
      ],
      "execution_count": 6,
      "outputs": [
        {
          "output_type": "stream",
          "name": "stdout",
          "text": [
            "Sunday\n"
          ]
        }
      ]
    },
    {
      "cell_type": "markdown",
      "metadata": {
        "id": "a8euCtdmWIDE"
      },
      "source": [
        "---\n",
        "### Exercise 4 - create a new date\n",
        "\n",
        "Write a function that will take 3 parameters, day, month, year (3 numbers that make a valid date) and will create, and return a new date.  The caller will print the date."
      ]
    },
    {
      "cell_type": "code",
      "metadata": {
        "id": "FbOFnTwnWILN",
        "colab": {
          "base_uri": "https://localhost:8080/"
        },
        "outputId": "ae883a3d-2df5-43a5-deef-5eb535d99025"
      },
      "source": [
        "from datetime import datetime\n",
        "\n",
        "def create_date(day, month, year):\n",
        "    try:\n",
        "        new_date = datetime(year, month, day)\n",
        "        return new_date\n",
        "    except ValueError as e:\n",
        "        return str(e)\n",
        "day = int(input(\"Please enter current day: \"))\n",
        "month = int(input(\"Please enter current month: \"))\n",
        "year = int(input(\"Please enter current year: \"))\n",
        "\n",
        "result = create_date(day, month, year)\n",
        "if isinstance(result, datetime):\n",
        "    print(\"New Date: {}\".format(result.strftime(\"%d/%m/%Y\")))\n",
        "else:\n",
        "    print(\"Error: {}\".format(result))"
      ],
      "execution_count": 17,
      "outputs": [
        {
          "output_type": "stream",
          "name": "stdout",
          "text": [
            "Please enter current day: 7\n",
            "Please enter current month: 1\n",
            "Please enter current year: 2024\n",
            "New Date: 07/01/2024\n"
          ]
        }
      ]
    },
    {
      "cell_type": "markdown",
      "metadata": {
        "id": "f5SKVuE0WfcE"
      },
      "source": [
        "---\n",
        "### Exercise 5 - create a valid date\n",
        "\n",
        "Write a function that will take 3 parameters, day, month, year (3 numbers) and will:  \n",
        "*   check that the month is between 1 and 12  \n",
        "*   check that the day is valid for the month (e.g. if the month is 2, then the day must be between 1 and 28 (don't worry about leap years for the moment)  \n",
        "*   if the date is not valid, print an error message and return None (which the caller will print)  \n",
        "*   if the date is valid, store it in a new variable, return the variable and the caller will print it."
      ]
    },
    {
      "cell_type": "code",
      "metadata": {
        "id": "gclt-f9-XfdG",
        "colab": {
          "base_uri": "https://localhost:8080/"
        },
        "outputId": "c2c602a2-63fd-423b-d32a-674e9562680a"
      },
      "source": [
        "def validate_and_create_date(day, month, year):\n",
        "    if not 1 <= month <= 12:\n",
        "        print(\"Error: Month should be between 1 and 12.\")\n",
        "        return None\n",
        "\n",
        "    max_days_per_month = {\n",
        "        1: 31, 2: 28, 3: 31, 4: 30, 5: 31, 6: 30,\n",
        "        7: 31, 8: 31, 9: 30, 10: 31, 11: 30, 12: 31\n",
        "    }\n",
        "\n",
        "    if not 1 <= day <= max_days_per_month[month]:\n",
        "        print(\"Error: Invalid day for the given month.\")\n",
        "        return None\n",
        "    try:\n",
        "        new_date = datetime(year, month, day)\n",
        "        return new_date\n",
        "    except ValueError as e:\n",
        "        print(\"Error: {}\".format(e))\n",
        "        return None\n",
        "\n",
        "day = int(input(\"Please enter the day: \"))\n",
        "month = int(input(\"Please enter the month: \"))\n",
        "year = int(input(\"Please enter the year: \"))\n",
        "\n",
        "result = validate_and_create_date(day, month, year)\n",
        "if result is not None:\n",
        "    print(\"Valid Date: {}\".format(result.strftime(\"%d/%m/%Y\")))"
      ],
      "execution_count": 18,
      "outputs": [
        {
          "output_type": "stream",
          "name": "stdout",
          "text": [
            "Please enter the day: 7\n",
            "Please enter the month: 1\n",
            "Please enter the year: 2024\n",
            "Valid Date: 07/01/2024\n"
          ]
        }
      ]
    },
    {
      "cell_type": "markdown",
      "metadata": {
        "id": "js7fy2HWXfm2"
      },
      "source": [
        "---\n",
        "### Exercise 6 - is it a leap year?\n",
        "\n",
        "Write a function that will take a date as a parameter (you will need to create the date variable before calling the function) and will determine if it is a leap year, returning True or False.\n",
        "\n",
        "*Hint:  a leap year is a year that is divisible by 4 but the centuries (1900, 2000, etc are only leap years if they are divisible by 400)*"
      ]
    },
    {
      "cell_type": "code",
      "metadata": {
        "id": "KY1jtf3lX_ps",
        "colab": {
          "base_uri": "https://localhost:8080/"
        },
        "outputId": "f25662ed-8b7c-421b-c09f-c98285284651"
      },
      "source": [
        "from datetime import datetime\n",
        "def is_leap_year(date_to_check):\n",
        "  # add your code below here\n",
        "    year = date_to_check.year\n",
        "    if year % 4 == 0:\n",
        "        if year % 100 == 0:\n",
        "            return year % 400 == 0\n",
        "        else:\n",
        "            return True\n",
        "    else:\n",
        "        return False\n",
        "check_date = datetime(1996, 12, 15)\n",
        "if is_leap_year(check_date):\n",
        "  print(check_date.strftime(\"%Y\"), \"is a leap year\")\n",
        "else:\n",
        "  print(check_date.strftime(\"%Y\"), \"is not a leap year\")"
      ],
      "execution_count": 22,
      "outputs": [
        {
          "output_type": "stream",
          "name": "stdout",
          "text": [
            "1996 is a leap year\n"
          ]
        }
      ]
    },
    {
      "cell_type": "markdown",
      "metadata": {
        "id": "9BuRDi08YAO0"
      },
      "source": [
        "---\n",
        "### Exercise 7 - display parts of date/time\n",
        "\n",
        "Write a function that will take a date and print from it the following:  \n",
        "*  given date and time  \n",
        "*  year (in full)\n",
        "*  month (as a number)\n",
        "*  month name\n",
        "*  week number of the year  \n",
        "*  weekday of the week (as a number)  \n",
        "*  day of year  \n",
        "*  day of the month  \n",
        "*  day of week (as a name)  \n",
        "\n",
        "*Hint:  see w3Schools for [strftime reference](https://www.w3schools.com/python/python_datetime.asp)*\n",
        "\n"
      ]
    },
    {
      "cell_type": "code",
      "metadata": {
        "id": "zl-37Ez9ahym",
        "colab": {
          "base_uri": "https://localhost:8080/"
        },
        "outputId": "38c20eb7-2276-47ab-b4f0-fb86bf9a612d"
      },
      "source": [
        "from datetime import datetime\n",
        "\n",
        "def print_date_info(input_date):\n",
        "    print(\"Given Date and Time:\", input_date.strftime(\"%d-%m-%Y %H:%M:%S\"))\n",
        "    print(\"Year\", input_date.strftime(\"%Y\"))\n",
        "    print(\"Month:\", input_date.strftime(\"%m\"))\n",
        "    print(\"Month Name:\", input_date.strftime(\"%B\"))\n",
        "    print(\"Week Number of the Year:\", input_date.strftime(\"%U\"))\n",
        "    print(\"Weekday of the Week:\", input_date.strftime(\"%w\"))\n",
        "    print(\"Day of Year:\", input_date.strftime(\"%j\"))\n",
        "    print(\"Day of the Month:\", input_date.strftime(\"%d\"))\n",
        "    print(\"Day of Week:\", input_date.strftime(\"%A\"))\n",
        "\n",
        "example_date = datetime(2022, 1, 15, 12, 30, 0)\n",
        "print_date_info(example_date)"
      ],
      "execution_count": 25,
      "outputs": [
        {
          "output_type": "stream",
          "name": "stdout",
          "text": [
            "Given Date and Time: 15-01-2022 12:30:00\n",
            "Year 2022\n",
            "Month: 01\n",
            "Month Name: January\n",
            "Week Number of the Year: 02\n",
            "Weekday of the Week: 6\n",
            "Day of Year: 015\n",
            "Day of the Month: 15\n",
            "Day of Week: Saturday\n"
          ]
        }
      ]
    },
    {
      "cell_type": "markdown",
      "metadata": {
        "id": "_rpTIoSDaiBj"
      },
      "source": [
        "---\n",
        "### Exercise 8 - next 6 days\n",
        "\n",
        "Write a function that will take a date and generate the dates of the following 6 days.  It should print each of the 6 days in the form:  \n",
        "\n",
        "DAY OF THE WEEK, MONTH NAME, FULL YEAR\n",
        "\n",
        "Hint:  to generate the days, use the function datetime.timedelta(), there is a good example of its use [here](https://www.geeksforgeeks.org/python-datetime-timedelta-function/)  "
      ]
    },
    {
      "cell_type": "code",
      "metadata": {
        "id": "1d-oXqLLb0vX",
        "colab": {
          "base_uri": "https://localhost:8080/"
        },
        "outputId": "5083651c-60c0-4093-d7b8-1da626f944e3"
      },
      "source": [
        "from datetime import datetime, timedelta\n",
        "\n",
        "def generate_next_six_days(start_date):\n",
        "    for i in range(1, 7):\n",
        "        next_date = start_date + timedelta(days=i)\n",
        "        print(next_date.strftime(\"%A, %d %B %Y\"))\n",
        "\n",
        "\n",
        "base_date = datetime(2024, 2, 13)\n",
        "generate_next_six_days(base_date)"
      ],
      "execution_count": 31,
      "outputs": [
        {
          "output_type": "stream",
          "name": "stdout",
          "text": [
            "Wednesday, 14 February 2024\n",
            "Thursday, 15 February 2024\n",
            "Friday, 16 February 2024\n",
            "Saturday, 17 February 2024\n",
            "Sunday, 18 February 2024\n",
            "Monday, 19 February 2024\n"
          ]
        }
      ]
    },
    {
      "cell_type": "markdown",
      "metadata": {
        "id": "22Rhwx2Sb1Ey"
      },
      "source": [
        "---\n",
        "### Optional extra practice\n",
        "\n",
        "There are some similar and some more challenging exercises [here](https://www.w3resource.com/python-exercises/date-time-exercise/) if you would like to practice more. The site has its own editor."
      ]
    }
  ]
}