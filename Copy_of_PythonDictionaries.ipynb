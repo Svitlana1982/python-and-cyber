{
  "cells": [
    {
      "cell_type": "markdown",
      "metadata": {
        "id": "view-in-github",
        "colab_type": "text"
      },
      "source": [
        "<a href=\"https://colab.research.google.com/github/Svitlana1982/python-and-cyber/blob/main/Copy_of_PythonDictionaries.ipynb\" target=\"_parent\"><img src=\"https://colab.research.google.com/assets/colab-badge.svg\" alt=\"Open In Colab\"/></a>"
      ]
    },
    {
      "cell_type": "markdown",
      "metadata": {
        "id": "Vvcpt-18AqVE"
      },
      "source": [
        "<a href=\"https://colab.research.google.com/github/StefanMeyer7/Python-Fundamentals/blob/main/PythonDictionaries.ipynb\" target=\"_parent\"><img src=\"https://colab.research.google.com/assets/colab-badge.svg\" alt=\"Open In Colab\"/></a>"
      ]
    },
    {
      "cell_type": "markdown",
      "metadata": {
        "id": "ajVrvblzd9wB"
      },
      "source": [
        "# Dictionaries\n",
        "\n",
        "---\n",
        "\n",
        "A **dictionary** is a collection of dissimilar data stored together in one *record*. Each item of data has a  (or key) that describes its paired value.  \n",
        "\n",
        "Create a dictionary object by declaring the set of keys and values, e.g.:\n",
        "\n",
        "```\n",
        "   transport = {\n",
        "       \"type\":\"bus\",\n",
        "       \"numPassengers\":72,\n",
        "       \"colour\":\"blue\",\n",
        "       \"fuel\":\"diesel\"\n",
        "   }\n",
        "```\n",
        "\n",
        "To access a value in a dictionary, use its key:  \n",
        "\n",
        "```\n",
        "transport[\"type\"] = \"coach\"\n",
        "transport_type = transport[\"type\"]\n",
        "transport_colour = transport[\"colour\"]\n",
        "transport[\"fuel\"] = petrol\n",
        "```\n",
        "\n",
        "To add a new key/value pair to a dictionary, simply assign a value to a new key:  \n",
        "```\n",
        "transport[\"seats\"] = 54\n",
        "```\n",
        "\n",
        "The transport dictionary will now look like this:  \n",
        "```\n",
        "   transport = {\n",
        "       \"type\":\"bus\",\n",
        "       \"numPassengers\":72,\n",
        "       \"colour\":\"blue\",\n",
        "       \"fuel\":\"diesel\",\n",
        "       \"seats\":54\n",
        "   }\n",
        "```\n",
        "\n"
      ]
    },
    {
      "cell_type": "markdown",
      "metadata": {
        "id": "0twREgj8d-8E"
      },
      "source": [
        "---\n",
        "### Exercise 1 - print dictionary\n",
        "\n",
        "Write a function which will:  \n",
        "\n",
        "*  create an empty dictionary for a person (name, age and postcode, with values \"\", 0 and \"\")\n",
        "*  ask the user for name, age and postcode and assign the values to the correct keys in the dictionary  \n",
        "*  print the dictionary\n",
        "\n",
        "Test input:  \n",
        "Jack Jones  \n",
        "16  \n",
        "AB5 3DF  \n",
        "\n",
        "Expected output:  \n",
        "```{'name':'Jack Jones', 'age':16, 'postcode':'AB5 3DF'}```"
      ]
    },
    {
      "cell_type": "code",
      "execution_count": null,
      "metadata": {
        "id": "xxdFsAVFeAaa",
        "colab": {
          "base_uri": "https://localhost:8080/"
        },
        "outputId": "201b815c-966a-4f3f-ac2f-b26521e73b2d"
      },
      "outputs": [
        {
          "output_type": "stream",
          "name": "stdout",
          "text": [
            "Enter name: Jack Jones\n",
            "Enter age: 16\n",
            "Enter postcode: AB5 3DF\n",
            "{'name': 'Jack Jones', 'age': 16, 'postcode': 'AB5 3DF'}\n"
          ]
        }
      ],
      "source": [
        "def create_person_dict():\n",
        "    person_dict = {'name': '', 'age': 0, 'postcode': ''}\n",
        "    person_dict['name'] = input(\"Enter name: \")\n",
        "    person_dict['age'] = int(input(\"Enter age: \"))\n",
        "    person_dict['postcode'] = input(\"Enter postcode: \")\n",
        "    print(person_dict)\n",
        "\n",
        "create_person_dict()"
      ]
    },
    {
      "cell_type": "markdown",
      "metadata": {
        "id": "s2ovh9vReApo"
      },
      "source": [
        "---\n",
        "### Exercise 2 - create a dictionary\n",
        "\n",
        "Write a function that will create two dictionaries,without values:  \n",
        "\n",
        "1.  person (with keys firstname, surname, birthdate, postcode)  \n",
        "2.  car (with key/value pairs as follows:  make - Vauxhall, model - Corsa, engineSize - 1199, fuelType - unleaded, num_doors - 4)  \n",
        "\n",
        "*   ask the user to enter the values for the person dictionary  \n",
        "*   print, on one line, the person's name from the person dictionary and the make of the car from the car dictionary.\n",
        "\n",
        "Test input:  \n",
        "Jack  \n",
        "Jones  \n",
        "2005/02/02    \n",
        "AB5 3DF  \n",
        "\n",
        "Expected output:  \n",
        "Jack Jones Vauxhall"
      ]
    },
    {
      "cell_type": "code",
      "execution_count": null,
      "metadata": {
        "id": "zwVtULVkeB5F",
        "colab": {
          "base_uri": "https://localhost:8080/"
        },
        "outputId": "113a4e9b-aa49-4052-e30a-734aee359e06"
      },
      "outputs": [
        {
          "output_type": "stream",
          "name": "stdout",
          "text": [
            "Enter first name: Jack\n",
            "Enter surname: Jones\n",
            "Enter birthdate (YYYY/MM/DD): 2005/02/02\n",
            "Enter postcode: AB5 3DF\n",
            "Jack Jones Vauxhall\n"
          ]
        }
      ],
      "source": [
        "def create_person_and_car_dicts():\n",
        "    person_dict = {'firstname': '', 'surname': '', 'birthdate': '', 'postcode': ''}\n",
        "    car_dict = {'make': 'Vauxhall', 'model': 'Corsa', 'engineSize': 1199, 'fuelType': 'unleaded', 'num_doors': 4}\n",
        "\n",
        "    person_dict['firstname'] = input(\"Enter first name: \")\n",
        "    person_dict['surname'] = input(\"Enter surname: \")\n",
        "    person_dict['birthdate'] = input(\"Enter birthdate (YYYY/MM/DD): \")\n",
        "    person_dict['postcode'] = input(\"Enter postcode: \")\n",
        "\n",
        "    print(f\"{person_dict['firstname']} {person_dict['surname']} {car_dict['make']}\")\n",
        "create_person_and_car_dicts()"
      ]
    },
    {
      "cell_type": "markdown",
      "metadata": {
        "id": "Juu-ivg0eDS5"
      },
      "source": [
        "---\n",
        "### Exercise 3 - check dictionary values\n",
        "\n",
        "Write a new function which will:\n",
        "\n",
        "*  set up the same two dictionaries as in Exercise 2  \n",
        "*  ask the user to enter the details to complete the person record  \n",
        "*  calculate the person's age  \n",
        "*  if the person is under 17 then print a message to say that they can't buy a car as they are too young to drive\n",
        "*  else if the person is under 25 then print a message to say that an engine size under 1200 is recommended  \n",
        "*  ask the user to enter the make of car that the person is looking for  \n",
        "*  if the user enters the same make as that stored in the car record, then print a message to say that you have one car of that make in stock and print all the details of the car that you have the record for\n",
        "*  else (if the user enters any other car make) then print a message to say sorry that you don't have any cars of that make in stock\n",
        "*  print a message to say that the user can get more details for stockist in the <user's postcode> area if they call 01234567890\n",
        "*  print a message to say \"Thank you <user's name> for using our site\"  \n",
        "\n",
        "Test input:  \n",
        "Jack  \n",
        "Jones  \n",
        "2005/02/02  \n",
        "AB5 3DF  \n",
        "Vauxhall  \n",
        "\n",
        "Expected output:  \n",
        "You are too young to drive\n",
        "\n",
        "Test input:  \n",
        "John  \n",
        "Jones  \n",
        "2003/02/02  \n",
        "AB5 3DF  \n",
        "Vauxhall\n",
        "\n",
        "Expected output:  \n",
        "An engine size under 1200 is recommended  \n",
        "We have one Vauxhall in stock, details:  \n",
        "Make - Vauxhall    \n",
        "Model - Corsa    \n",
        "Engine size - 1199  \n",
        "Fuel type - unleaded   \n",
        "Number of doors - 4  \n",
        "You can get more details of stockists near AB5 3DF on 01234567890  \n",
        "Thank you John Jones for using our site.     \n",
        "\n",
        "Test input:  \n",
        "John  \n",
        "Jones  \n",
        "2003/02/02  \n",
        "AB5 3DF  \n",
        "Ford  \n",
        "\n",
        "Expected output:  \n",
        "An engine size under 1200 is recommended  \n",
        "Sorry, we don't have any of that make in stock  \n"
      ]
    },
    {
      "cell_type": "code",
      "execution_count": 1,
      "metadata": {
        "id": "IiAIQVvWeDsk",
        "colab": {
          "base_uri": "https://localhost:8080/"
        },
        "outputId": "1df246f3-c345-47bb-a5b8-42a9d00191c6"
      },
      "outputs": [
        {
          "output_type": "stream",
          "name": "stdout",
          "text": [
            "Enter your first name: Jack\n",
            "Enter your last name: Jones\n",
            "Enter your date of birth (YYYY/MM/DD): 2005/02/02\n",
            "Enter your postcode: AB5 3DF\n",
            "An engine size under 1200 is recommended\n",
            "Enter the make of the car you are looking for: Vauxhall\n",
            "We have one Vauxhall in stock, details:\n",
            "Make - Vauxhall\n",
            "Model - Corsa\n",
            "Engine size - 1199\n",
            "Fuel type - unleaded\n",
            "Number of doors - 4\n",
            "You can get more details of stockists near AB5 3DF on 01234567890\n",
            "Thank you Jack Jones for using our site.\n"
          ]
        }
      ],
      "source": [
        "def car_shopping():\n",
        "    person_record = {\n",
        "        'first_name': '',\n",
        "        'last_name': '',\n",
        "        'dob': '',\n",
        "        'postcode': '',\n",
        "    }\n",
        "\n",
        "    car_record = {\n",
        "        'make': 'Vauxhall',\n",
        "        'model': 'Corsa',\n",
        "        'engine_size': 1199,\n",
        "        'fuel_type': 'unleaded',\n",
        "        'doors': 4,\n",
        "    }\n",
        "\n",
        "    person_record['first_name'] = input(\"Enter your first name: \")\n",
        "    person_record['last_name'] = input(\"Enter your last name: \")\n",
        "    person_record['dob'] = input(\"Enter your date of birth (YYYY/MM/DD): \")\n",
        "    person_record['postcode'] = input(\"Enter your postcode: \")\n",
        "\n",
        "    birth_year = int(person_record['dob'][:4])\n",
        "    current_year = 2024\n",
        "    age = current_year - birth_year\n",
        "\n",
        "    if age < 17:\n",
        "        print(\"You are too young to drive\")\n",
        "    elif age < 25:\n",
        "        print(\"An engine size under 1200 is recommended\")\n",
        "\n",
        "    desired_make = input(\"Enter the make of the car you are looking for: \")\n",
        "\n",
        "    if desired_make.lower() == car_record['make'].lower():\n",
        "        print(f\"We have one {car_record['make']} in stock, details:\")\n",
        "        print(f\"Make - {car_record['make']}\")\n",
        "        print(f\"Model - {car_record['model']}\")\n",
        "        print(f\"Engine size - {car_record['engine_size']}\")\n",
        "        print(f\"Fuel type - {car_record['fuel_type']}\")\n",
        "        print(f\"Number of doors - {car_record['doors']}\")\n",
        "        print(f\"You can get more details of stockists near {person_record['postcode']} on 01234567890\")\n",
        "    else:\n",
        "        print(f\"Sorry, we don't have any of that make in stock\")\n",
        "\n",
        "    print(f\"Thank you {person_record['first_name']} {person_record['last_name']} for using our site.\")\n",
        "\n",
        "car_shopping()"
      ]
    },
    {
      "cell_type": "markdown",
      "metadata": {
        "id": "ctA2qPE3eFRB"
      },
      "source": [
        "---\n",
        "### Exercise 4 - print keys and values\n",
        "\n",
        "Two dictionaries have been created below.  You can print a list of the dictionary's keys using `dictionary_name.keys()` and the values using `dictionary_name.values()`\n",
        "\n",
        "Write a function which will accept a dictionary as a parameter and will:  \n",
        "*  print the dictionary keys as a list   \n",
        "*  print the dictionary values as a list  \n",
        "\n",
        "*Hint*:  you will need to cast the keys as a list (`list(dictionary_name.keys()`)  and do the same for the values.\n",
        "\n",
        "**Expected Output**\n",
        "\n",
        "Input: English  \n",
        "Output:\n",
        "['Andy', 'Angela']  \n",
        "[95, 53]  \n",
        "\n",
        "Input: Maths  \n",
        "Output:  \n",
        "['Andy', 'Angela']  \n",
        "[58, 72]\n",
        "\n",
        "\n",
        "\n"
      ]
    },
    {
      "cell_type": "code",
      "execution_count": 4,
      "metadata": {
        "id": "MJtMND82eGwt",
        "colab": {
          "base_uri": "https://localhost:8080/"
        },
        "outputId": "2acc8507-9569-40e1-93a2-1b270c79c9f0"
      },
      "outputs": [
        {
          "output_type": "stream",
          "name": "stdout",
          "text": [
            "English\n",
            "['Andy', 'Angela']\n",
            "[95, 53]\n",
            "Maths\n",
            "['Andy', 'Angela']\n",
            "[58, 72]\n"
          ]
        }
      ],
      "source": [
        "def display_dictionary(scores):\n",
        "  #  add your code below this line\n",
        "  keys_list = list(scores.keys())\n",
        "  print(keys_list)\n",
        "  values_list = list(scores.values())\n",
        "  print(values_list)\n",
        "\n",
        "english_scores = {'Andy': 95, 'Angela': 53}\n",
        "maths_scores = {'Andy': 58, 'Angela': 72}\n",
        "print(\"English\")\n",
        "display_dictionary(english_scores)\n",
        "print(\"Maths\")\n",
        "display_dictionary(maths_scores)"
      ]
    },
    {
      "cell_type": "markdown",
      "metadata": {
        "id": "l21xWlAYeIbD"
      },
      "source": [
        "---\n",
        "### Exercise 5 - add field\n",
        "\n",
        "Write a function which will:\n",
        "\n",
        "*  create a new dictionary called **science_scores** with values of 0 for both Andy and Angela\n",
        "*  update Andy's score for science to 73 and Angela's score to 73   \n",
        "*  create a new key/value pair by adding another learner to the `science_scores`  dictionary (George has a score of 55)    \n",
        "*  print the `science_scores` dictionary to check results  \n",
        "\n",
        "Expected Output\n",
        "\n",
        "{'Andy': 73, 'Angela': 73, 'George': 55}"
      ]
    },
    {
      "cell_type": "code",
      "execution_count": 5,
      "metadata": {
        "id": "yUIyc-AleI1j",
        "colab": {
          "base_uri": "https://localhost:8080/"
        },
        "outputId": "fda8acf3-6921-4626-fa6e-8a5484324498"
      },
      "outputs": [
        {
          "output_type": "stream",
          "name": "stdout",
          "text": [
            "{'Andy': 73, 'Angela': 73, 'George': 55}\n"
          ]
        }
      ],
      "source": [
        "def update_science_scores():\n",
        "    science_scores = {'Andy': 0, 'Angela': 0}\n",
        "    science_scores['Andy'] = 73\n",
        "    science_scores['Angela'] = 73\n",
        "    science_scores['George'] = 55\n",
        "    print(science_scores)\n",
        "\n",
        "update_science_scores()"
      ]
    },
    {
      "cell_type": "markdown",
      "metadata": {
        "id": "WhkZtLjDeJ5D"
      },
      "source": [
        "---\n",
        "### Exercise 6 - loop through keys/value pairs\n",
        "\n",
        "Write a function which will use a *for* loop to print the each key/value pair in the science dictionary (recreate this dictionary in this function)\n",
        "\n",
        "*(Hint: you can iterate through the key/value pairs in the dictionary in the same way as you iterate through a loop (e.g. for record in dictionary) and print the record (which is the key) and its value)*\n",
        "\n",
        "Expected output:  \n",
        "\n",
        "Angela 72  \n",
        "Andy 72  \n",
        "George 55  "
      ]
    },
    {
      "cell_type": "code",
      "execution_count": 6,
      "metadata": {
        "id": "AhW3GnQheKNW",
        "colab": {
          "base_uri": "https://localhost:8080/"
        },
        "outputId": "8862db30-fec5-4ccb-9230-ab5cf361e32d"
      },
      "outputs": [
        {
          "output_type": "stream",
          "name": "stdout",
          "text": [
            "Angela 72\n",
            "Andy 72\n",
            "George 55\n"
          ]
        }
      ],
      "source": [
        "def print_science_scores():\n",
        "    science_scores = {'Angela': 72, 'Andy': 72, 'George': 55}\n",
        "\n",
        "    for learner, score in science_scores.items():\n",
        "        print(f\"{learner} {score}\")\n",
        "\n",
        "print_science_scores()"
      ]
    },
    {
      "cell_type": "markdown",
      "metadata": {
        "id": "RfJnjBoTeLeU"
      },
      "source": [
        "---\n",
        "### Exercise 7 - generate new dictionary  \n",
        "\n",
        "Write a functions which will:\n",
        "*  create a new dictionary where the keys are numbers between 1 and 15 (both included) and the values are square of keys\n",
        "*  print the dictionary\n",
        "\n",
        "Expected output:  \n",
        "{1: 1, 2: 4, 3: 9, 4: 16, 5: 25, 6: 36, 7: 49, 8: 64, 9: 81, 10: 100, 11: 121, 12: 144, 13: 169, 14: 196, 15: 225}"
      ]
    },
    {
      "cell_type": "code",
      "execution_count": 7,
      "metadata": {
        "id": "Zn-pa0rXeLvk",
        "colab": {
          "base_uri": "https://localhost:8080/"
        },
        "outputId": "f4f29d94-ce59-4072-9025-63754c8fbda0"
      },
      "outputs": [
        {
          "output_type": "stream",
          "name": "stdout",
          "text": [
            "{1: 1, 2: 4, 3: 9, 4: 16, 5: 25, 6: 36, 7: 49, 8: 64, 9: 81, 10: 100, 11: 121, 12: 144, 13: 169, 14: 196, 15: 225}\n"
          ]
        }
      ],
      "source": [
        "def create_square_dictionary():\n",
        "    square_dict = {i: i**2 for i in range(1, 16)}\n",
        "    print(square_dict)\n",
        "\n",
        "create_square_dictionary()"
      ]
    },
    {
      "cell_type": "markdown",
      "metadata": {
        "id": "oehTCZ07eMm_"
      },
      "source": [
        "---\n",
        "### Exercise 8 - colour dictionary  \n",
        "\n",
        "Write a function which will:  \n",
        "*  create a new dictionary record called colour_codes with the values 'red' - '#FF0000', 'green' - '#008000', 'black' - '#000000', 'white' - '#FFFFFF'\n",
        "*  add a new colour code:  'blue' - '#0000FF'    \n",
        "*  remove the colours black and white from the dictionary  \n",
        "\n",
        "*Hint:  there is a list of methods [here](https://www.w3schools.com/python/python_ref_dictionary.asp)*  "
      ]
    },
    {
      "cell_type": "code",
      "execution_count": 8,
      "metadata": {
        "id": "DCJC5Jk2eM5Q",
        "colab": {
          "base_uri": "https://localhost:8080/"
        },
        "outputId": "54ca6f2f-2d50-40ab-a7e6-889e20e1d6b9"
      },
      "outputs": [
        {
          "output_type": "stream",
          "name": "stdout",
          "text": [
            "{'red': '#FF0000', 'green': '#008000', 'blue': '#0000FF'}\n"
          ]
        }
      ],
      "source": [
        "def colour_dictionary():\n",
        "    colour = {'red': '#FF0000', 'green': '#008000', 'black': '#000000', 'white': '#FFFFFF'}\n",
        "    colour['blue'] = '#0000FF'\n",
        "\n",
        "    colour.pop('black', None)\n",
        "    colour.pop('white', None)\n",
        "    print(colour)\n",
        "\n",
        "colour_dictionary()"
      ]
    },
    {
      "cell_type": "markdown",
      "metadata": {
        "id": "W1z8ixCzeN8x"
      },
      "source": [
        "---\n",
        "### Exercise 9 - item tuples  \n",
        "\n",
        "Write a function which will:  \n",
        "*  create a new dictionary containing the colour codes for red, green, blue, black and white\n",
        "*  print the key/value pairs of a dictionary as a list of tuples  \n",
        "\n",
        "*Hint:  iterate through colours.items()*"
      ]
    },
    {
      "cell_type": "code",
      "execution_count": 9,
      "metadata": {
        "id": "9fMy4RU_eOdE",
        "colab": {
          "base_uri": "https://localhost:8080/"
        },
        "outputId": "83538d15-abe5-4148-a772-fb47071cc469"
      },
      "outputs": [
        {
          "output_type": "stream",
          "name": "stdout",
          "text": [
            "[('red', '#FF0000'), ('green', '#008000'), ('blue', '#0000FF'), ('black', '#000000'), ('white', '#FFFFFF')]\n"
          ]
        }
      ],
      "source": [
        "def print_colour_code_tuples():\n",
        "    colours = {'red': '#FF0000', 'green': '#008000', 'blue': '#0000FF', 'black': '#000000', 'white': '#FFFFFF'}\n",
        "    tuples_list = list(colours.items())\n",
        "    print(tuples_list)\n",
        "\n",
        "print_colour_code_tuples()"
      ]
    },
    {
      "cell_type": "markdown",
      "metadata": {
        "id": "gkrOvN9IePku"
      },
      "source": [
        "---\n",
        "### Exercise 10 - check if empty\n",
        "Taken from w3resouce.com  \n",
        "\n",
        "Write a function which will check if a dictionary is empty or not\n",
        "\n",
        "*Hint:  you can use bool(dictionary_name), if the dictionary is empty then bool(dictionary_name will be false)*\n",
        "\n",
        "Test 1 sample data:\n",
        "{}\n",
        "\n",
        "Expected output:\n",
        "Dictionary is empty  \n",
        "\n",
        "Test 2 sample data:  \n",
        "{\"name\":\"Groucho\", \"occupation\":\"comedian\"}\n",
        "\n",
        "Expected output:  \n",
        "Dictionary is not empty"
      ]
    },
    {
      "cell_type": "code",
      "execution_count": 10,
      "metadata": {
        "id": "BulXCFK0eQJ-",
        "colab": {
          "base_uri": "https://localhost:8080/"
        },
        "outputId": "1f528e64-61bc-43fd-e52f-a767ab9347c8"
      },
      "outputs": [
        {
          "output_type": "stream",
          "name": "stdout",
          "text": [
            "Test 1:\n",
            "Dictionary is empty\n",
            "\n",
            "Test 2:\n",
            "Dictionary is not empty\n"
          ]
        }
      ],
      "source": [
        "def check_dictionary_empty(dictionary):\n",
        "    if not bool(dictionary):\n",
        "        print(\"Dictionary is empty\")\n",
        "    else:\n",
        "        print(\"Dictionary is not empty\")\n",
        "\n",
        "sample_data_1 = {}\n",
        "print(\"Test 1:\")\n",
        "check_dictionary_empty(sample_data_1)\n",
        "\n",
        "sample_data_2 = {\"name\": \"Groucho\", \"occupation\": \"comedian\"}\n",
        "print(\"\\nTest 2:\")\n",
        "check_dictionary_empty(sample_data_2)"
      ]
    }
  ],
  "metadata": {
    "colab": {
      "provenance": [],
      "include_colab_link": true
    },
    "kernelspec": {
      "display_name": "Python 3",
      "name": "python3"
    },
    "language_info": {
      "name": "python"
    }
  },
  "nbformat": 4,
  "nbformat_minor": 0
}