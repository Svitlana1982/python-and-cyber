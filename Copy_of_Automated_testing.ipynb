{
  "nbformat": 4,
  "nbformat_minor": 0,
  "metadata": {
    "colab": {
      "provenance": [],
      "include_colab_link": true
    },
    "kernelspec": {
      "name": "python3",
      "display_name": "Python 3"
    },
    "language_info": {
      "name": "python"
    }
  },
  "cells": [
    {
      "cell_type": "markdown",
      "metadata": {
        "id": "view-in-github",
        "colab_type": "text"
      },
      "source": [
        "<a href=\"https://colab.research.google.com/github/Svitlana1982/python-and-cyber/blob/main/Copy_of_Automated_testing.ipynb\" target=\"_parent\"><img src=\"https://colab.research.google.com/assets/colab-badge.svg\" alt=\"Open In Colab\"/></a>"
      ]
    },
    {
      "cell_type": "markdown",
      "source": [
        "# Create a set of automated tests from your testing plan\n",
        "---\n",
        "\n",
        "The code has been copied here again for you.\n",
        "\n",
        "The objective of this exercise is to write code that will run the tests and report any problems.\n",
        "\n",
        "There are a number of test frameworks available.   Unit testing frameworks are designed to help to create tests for individual functions and can be used to write black box or white box tests.\n",
        "\n",
        "---\n",
        "\n",
        "The code from the last worksheet has been copied here so that you can create the original database again and populate it with the first 10 records as before.\n",
        "\n",
        "Run the two code cells below, then check that there is a file called savings.sqlite in the file panel on the left.\n",
        "\n",
        "### Run this code cell to set up the database with an initial set of test records\n",
        "---"
      ],
      "metadata": {
        "id": "pctELjKs4kUi"
      }
    },
    {
      "cell_type": "code",
      "source": [
        "import sqlite3\n",
        "\n",
        "# Create and populate the database ready for testing\n",
        "def setup_database(db_name):\n",
        "  conn = sqlite3.connect(db_name)\n",
        "  cur = conn.cursor()\n",
        "  query = \"DROP TABLE IF EXISTS savings\"\n",
        "  cur.execute(query)\n",
        "  conn.commit()\n",
        "  query = \"CREATE TABLE IF NOT EXISTS savings(user_id INTEGER PRIMARY KEY, balance REAL)\"\n",
        "  cur.execute(query)\n",
        "  conn.commit()\n",
        "  starting_balances = [44,5,42,32,25,5,26,39,45,29]\n",
        "  for id in range(1, 11):\n",
        "      add_new_user(id, conn)\n",
        "      add_funds(id, starting_balances[id-1], conn)\n",
        "  print(\"Database connected, savings table created and populated with testing records\")\n",
        "  return conn"
      ],
      "metadata": {
        "id": "E0X2dLvq7S9q"
      },
      "execution_count": 5,
      "outputs": []
    },
    {
      "cell_type": "markdown",
      "source": [
        "### Run this cell to activate the app's functions\n",
        "---\n"
      ],
      "metadata": {
        "id": "CmXkX43rsPI9"
      }
    },
    {
      "cell_type": "code",
      "execution_count": 4,
      "metadata": {
        "id": "Dv_Xac9H4gXp"
      },
      "outputs": [],
      "source": [
        "import sqlite3\n",
        "from tabulate import tabulate\n",
        "\n",
        "# gets a copy of the data from the savings table\n",
        "# ---------------------------------------------------------------------------------------------------------------------------------------------------\n",
        "def get_data(conn):\n",
        "  cur = conn.cursor()\n",
        "  query = \"SELECT * FROM savings\"\n",
        "  cur.execute(query)\n",
        "  data = cur.fetchall()\n",
        "  columns = tuple(map(lambda x: x[0], cur.description))\n",
        "  return data, columns\n",
        "\n",
        "# prints the balance for.   The table will have a number of rows corresponding to the number of users plus a header row.\n",
        "# it will be possible to get a list of users from this table\n",
        "# ---------------------------------------------------------------------------------------------------------------------------------------------------\n",
        "def get_user_data(user_id, conn):\n",
        "  if does_exist(user_id, conn):\n",
        "    cur = conn.cursor()\n",
        "    query = f\"SELECT balance FROM savings WHERE user_id={str(user_id)}\"\n",
        "    cur.execute(query)\n",
        "    data = cur.fetchone()\n",
        "    return data[0]\n",
        "  else:\n",
        "    return \"User does not exist\"\n",
        "\n",
        "# check that a user with a given id does or doesn't exist in the savings table\n",
        "# returns True or False\n",
        "# ---------------------------------------------------------------------------------------------------------------------------------------------------\n",
        "def does_exist(user_id, conn):\n",
        "  cur = conn.cursor()\n",
        "  query = f\"SELECT * FROM savings WHERE user_id = {str(user_id)}\"\n",
        "  cur.execute(query)\n",
        "  data = cur.fetchone()\n",
        "  return data is not None\n",
        "\n",
        "# adds a user with the given id to the savings table\n",
        "# returns a message to confirm that this has happened\n",
        "# ---------------------------------------------------------------------------------------------------------------------------------------------------\n",
        "def add_new_user(user_id, conn):\n",
        "  cur = conn.cursor()\n",
        "  query = f\"INSERT INTO savings(user_id,balance) VALUES({str(user_id)},0)\"\n",
        "  cur.execute(query)\n",
        "  conn.commit()\n",
        "  return True\n",
        "\n",
        "# removes a user with the given id from the savings table after checking that the user does exist\n",
        "# returns a message to confirm that this has happened or that the user doesn't exist\n",
        "# ----------------------------------------------------------------------------------------------------------------------------------\n",
        "def remove_user(user_id, conn):\n",
        "  if does_exist(user_id, conn):\n",
        "    cur = conn.cursor()\n",
        "    query = f\"DELETE FROM savings WHERE user_id={str(user_id)}\"\n",
        "    cur.execute(query)\n",
        "    return True\n",
        "  else:\n",
        "    return False\n",
        "\n",
        "# updates the balance for the given user by adding the given amount onto the balance\n",
        "# returns a message to confirm that this has happened or that the user doesn't exist\n",
        "# ----------------------------------------------------------------------------------------------------------------------------------\n",
        "def add_funds(user_id, amount, conn):\n",
        "  if does_exist(user_id, conn):\n",
        "    cur = conn.cursor()\n",
        "    query = f\"UPDATE savings SET balance=balance+{str(amount)} WHERE user_id={str(user_id)}\"\n",
        "    cur.execute(query)\n",
        "    data = cur.fetchall()\n",
        "    return True\n",
        "  else:\n",
        "    return False\n",
        "\n",
        "# updates the balance for the given user by subtracting the given amount from the balance\n",
        "# returns a message to confirm that this has happened or that the user doesn't exist\n",
        "# ----------------------------------------------------------------------------------------------------------------------------------\n",
        "def remove_funds(user_id, amount, conn):\n",
        "  if does_exist(user_id, conn):\n",
        "    cur = conn.cursor()\n",
        "    query = f\"UPDATE savings SET balance=balance - {str(amount)} WHERE user_id={str(user_id)}\"\n",
        "    cur.execute(query)\n",
        "    data = cur.fetchall()\n",
        "    return True\n",
        "  else:\n",
        "    return False\n",
        "\n",
        "# nullifies the connection so that is can't accidentally be used again\n",
        "# ----------------------------------------------------------------------------------------------------------------------------------\n",
        "def exit_app(conn):\n",
        "  conn.close()\n",
        "  conn = None\n",
        "  print(\"Exiting app...\")\n",
        "  return conn"
      ]
    },
    {
      "cell_type": "markdown",
      "source": [
        "## Add the first three tests from the orignal manual testing table\n",
        "---\n",
        "\n",
        "These will test that the database and its table have been created correctly, with 10 rows and a range of balances.  \n",
        "\n",
        "**Test 1** - test_get_data() Views all records in the savings table and checks that the headings are as expected and that there are 10 rows\n",
        "\n",
        "**Test 2** - test_get_valid_user_data() runs the function get_user_data() for user_id 1 and checks that the balance is 44 as expected\n",
        "\n",
        "**Test 3** - test_get_invalid_user_data() runs the function get_user_data() for user_id 15 and checks that it reports that this user does not exist\n",
        "\n",
        "**YOU SHOULD NOW ADD** **Test 4** - test_get_user_data_invalid_datatype() which will runs the function get_user_data() for user_id \"1\" and check that it reports that the data it has been given is not of the correct type"
      ],
      "metadata": {
        "id": "DFddHSr67YKL"
      }
    },
    {
      "cell_type": "code",
      "source": [
        "import sqlite3\n",
        "\n",
        "# Test 1 getting data and column headings, expected user_id and balance columns and data length 10\n",
        "def test_get_data():\n",
        "  data, columns = get_data(db_conn)\n",
        "  if columns == (\"user_id\", \"balance\") and len(data) == 10:\n",
        "    print(\"test_get_data passed\")\n",
        "  else:\n",
        "    print(\"test_get_data failed, returned {str(len(data))}\")\n",
        "    return 1\n",
        "  return 0\n",
        "\n",
        "# Test 2 getting a user's balance expected balance of 44 for user 1\n",
        "def test_get_valid_user_data():\n",
        "  user_data = get_user_data(1, db_conn)\n",
        "  if user_data == 44:\n",
        "    print(\"test_get_valid_user_data passed\")\n",
        "  else:\n",
        "    print(\"test_get_valid_user_data failed, returned {str(user_data)}\")\n",
        "    return 1\n",
        "  return 0\n",
        "\n",
        "# test getting a user's balance for an invalid user\n",
        "def test_get_invalid_user_data():\n",
        "  user_data = get_user_data(15, db_conn)\n",
        "  if user_data == \"User does not exist\":\n",
        "    print(\"test_get_invalid_user_data passed\")\n",
        "  else:\n",
        "    print(\"test_get_invalid_user_data failed, returned {str(user_data)}\")\n",
        "    return 1\n",
        "  return 0"
      ],
      "metadata": {
        "id": "PhbOI2fO8LC0"
      },
      "execution_count": 6,
      "outputs": []
    },
    {
      "cell_type": "markdown",
      "source": [
        "### Run the tests\n",
        "---\n",
        "\n",
        "*  Remove the original database  \n",
        "*  Create the database and table and populate with 10 records  \n",
        "*  Each test will return a 1 if it fails, add this to the number of failed tests  \n",
        "*  Print the number of tests that failed."
      ],
      "metadata": {
        "id": "Ku-va_BEZ06X"
      }
    },
    {
      "cell_type": "code",
      "source": [
        "!rm /content/savings.sqlite\n",
        "db_conn = setup_database(\"/content/savings.sqlite\")\n",
        "failed_tests = 0\n",
        "failed_tests += test_get_data()\n",
        "failed_tests += test_get_valid_user_data()\n",
        "failed_tests += test_get_invalid_user_data()\n",
        "\n",
        "print(f\"{str(failed_tests)} tests failed\")"
      ],
      "metadata": {
        "id": "EggPHc9ZGAbM",
        "colab": {
          "base_uri": "https://localhost:8080/"
        },
        "outputId": "7c29466c-70ee-4726-d8c1-acf60d9374b8"
      },
      "execution_count": 7,
      "outputs": [
        {
          "output_type": "stream",
          "name": "stdout",
          "text": [
            "rm: cannot remove '/content/savings.sqlite': No such file or directory\n",
            "Database connected, savings table created and populated with testing records\n",
            "test_get_data passed\n",
            "test_get_valid_user_data passed\n",
            "test_get_invalid_user_data passed\n",
            "0 tests failed\n"
          ]
        }
      ]
    },
    {
      "cell_type": "markdown",
      "source": [
        "### Add more tests\n",
        "---\n",
        "Follow the format for the first three tests.\n",
        "\n",
        "Add a fourth test to test for an invalid data type passed to the get_user_data() function\n",
        "\n",
        "Hint:  \n",
        "```\n",
        "def test_get_user_data_invalid_type():\n",
        "  user_data = get_user_data(\"1\", db_conn)\n",
        "  #  add the rest\n",
        "```"
      ],
      "metadata": {
        "id": "-1PQwKz0aX3I"
      }
    },
    {
      "cell_type": "code",
      "source": [
        "def test_get_user_data_invalid_type():\n",
        "  user_data = get_user_data(\"1\", db_conn)\n",
        "  if user_data == \"Data type is invalid\":\n",
        "    print(\"test_get_invalid_user_data passed\")\n",
        "  else:\n",
        "    print(f\"test_get_invalid_user_data failed, returned {str(user_data)}\")\n",
        "    return 1\n",
        "  return 0\n",
        "test_get_user_data_invalid_type()"
      ],
      "metadata": {
        "colab": {
          "base_uri": "https://localhost:8080/"
        },
        "id": "o-Cra2n549cH",
        "outputId": "c3b405f5-20a1-43df-bdcd-eff4d5621185"
      },
      "execution_count": 9,
      "outputs": [
        {
          "output_type": "stream",
          "name": "stdout",
          "text": [
            "test_get_invalid_user_data failed, returned 44.0\n"
          ]
        },
        {
          "output_type": "execute_result",
          "data": {
            "text/plain": [
              "1"
            ]
          },
          "metadata": {},
          "execution_count": 9
        }
      ]
    },
    {
      "cell_type": "markdown",
      "source": [
        "### and add the rest of the tests\n",
        "---\n",
        "from your test table"
      ],
      "metadata": {
        "id": "grLhqyfRb_P_"
      }
    },
    {
      "cell_type": "code",
      "source": [
        "#test12 remove user that doesn't exist\n",
        "def remove_user(user_id, db_conn):\n",
        "  if does_exist(user_id, db_conn):\n",
        "    cur = conn.cursor()\n",
        "    query = f\"DELETE FROM savings WHERE user_id={str(user_id)}\"\n",
        "    cur.execute(query)\n",
        "    return True\n",
        "  else:\n",
        "    return False\n",
        "remove_user(20, db_conn)"
      ],
      "metadata": {
        "colab": {
          "base_uri": "https://localhost:8080/"
        },
        "id": "BcgtZHYk6q1-",
        "outputId": "afb03a25-c406-4d71-a4d0-8feb3cff4c81"
      },
      "execution_count": 10,
      "outputs": [
        {
          "output_type": "execute_result",
          "data": {
            "text/plain": [
              "False"
            ]
          },
          "metadata": {},
          "execution_count": 10
        }
      ]
    },
    {
      "cell_type": "markdown",
      "source": [],
      "metadata": {
        "id": "7qbBC3l86yCr"
      }
    },
    {
      "cell_type": "code",
      "source": [
        "#test13 remove funds greater than balance\n",
        "def test_remove_funds():\n",
        "  user_data=remove_funds(1,60,db_conn)\n",
        "  if user_data == True:\n",
        "    print(\"test did not pass\")\n",
        "  else:\n",
        "    print(\"the test passed\")\n",
        "    return 1\n",
        "  return 0\n",
        "test_remove_funds()"
      ],
      "metadata": {
        "colab": {
          "base_uri": "https://localhost:8080/"
        },
        "id": "9rYOvWxr8RQs",
        "outputId": "72f5ddb3-af1d-461f-e522-36d4d6c11da2"
      },
      "execution_count": 11,
      "outputs": [
        {
          "output_type": "stream",
          "name": "stdout",
          "text": [
            "test did not pass\n"
          ]
        },
        {
          "output_type": "execute_result",
          "data": {
            "text/plain": [
              "0"
            ]
          },
          "metadata": {},
          "execution_count": 11
        }
      ]
    },
    {
      "cell_type": "code",
      "source": [
        "#test add new user\n",
        "def test_add_user(conn):\n",
        "  results=add_new_user(47,conn)\n",
        "  if results== False:\n",
        "    print(\"test did pass\")\n",
        "  else:\n",
        "    print(\"the test did not pass\")\n",
        "    return 1\n",
        "  return 0\n",
        "test_add_user(db_conn)"
      ],
      "metadata": {
        "colab": {
          "base_uri": "https://localhost:8080/"
        },
        "id": "WAauJi6Y94Qy",
        "outputId": "99b65e38-ca1f-4954-9308-bb46485963ed"
      },
      "execution_count": 12,
      "outputs": [
        {
          "output_type": "stream",
          "name": "stdout",
          "text": [
            "the test did not pass\n"
          ]
        },
        {
          "output_type": "execute_result",
          "data": {
            "text/plain": [
              "1"
            ]
          },
          "metadata": {},
          "execution_count": 12
        }
      ]
    },
    {
      "cell_type": "code",
      "source": [
        "# try-except test\n",
        "def test_add_user(conn):\n",
        "  try:\n",
        "    results=add_new_user(50,conn)\n",
        "  except:\n",
        "    print(\"the test failed\")\n",
        "    return 1\n",
        "  if results== False:\n",
        "    print(\"test did pass\")\n",
        "  else:\n",
        "    print(\"the test did not pass\")\n",
        "    return 1\n",
        "  return 0\n",
        "test_add_user(db_conn)"
      ],
      "metadata": {
        "colab": {
          "base_uri": "https://localhost:8080/"
        },
        "id": "TRRuKP1WI1oa",
        "outputId": "8f23fa3b-054a-4edb-8cbe-cd4dc06a6ac1"
      },
      "execution_count": 13,
      "outputs": [
        {
          "output_type": "stream",
          "name": "stdout",
          "text": [
            "the test did not pass\n"
          ]
        },
        {
          "output_type": "execute_result",
          "data": {
            "text/plain": [
              "1"
            ]
          },
          "metadata": {},
          "execution_count": 13
        }
      ]
    }
  ]
}