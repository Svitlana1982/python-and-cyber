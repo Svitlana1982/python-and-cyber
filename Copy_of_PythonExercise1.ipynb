{
  "nbformat": 4,
  "nbformat_minor": 0,
  "metadata": {
    "colab": {
      "provenance": [],
      "include_colab_link": true
    },
    "kernelspec": {
      "name": "python3",
      "display_name": "Python 3"
    },
    "language_info": {
      "name": "python"
    }
  },
  "cells": [
    {
      "cell_type": "markdown",
      "metadata": {
        "id": "view-in-github",
        "colab_type": "text"
      },
      "source": [
        "<a href=\"https://colab.research.google.com/github/Svitlana1982/python-and-cyber/blob/main/Copy_of_PythonExercise1.ipynb\" target=\"_parent\"><img src=\"https://colab.research.google.com/assets/colab-badge.svg\" alt=\"Open In Colab\"/></a>"
      ]
    },
    {
      "cell_type": "markdown",
      "source": [
        "1A. Write a program to add the two numbers 9 and 13."
      ],
      "metadata": {
        "id": "Y9kDXsgJh-Xk"
      }
    },
    {
      "cell_type": "code",
      "execution_count": 1,
      "metadata": {
        "id": "9YN0LOPvhNSI",
        "colab": {
          "base_uri": "https://localhost:8080/"
        },
        "outputId": "5561aad9-631f-4444-e808-8902dd347f10"
      },
      "outputs": [
        {
          "output_type": "stream",
          "name": "stdout",
          "text": [
            "The sum of 9 and 13 is: 22\n"
          ]
        }
      ],
      "source": [
        "#Write program here\n",
        "num1 = 9\n",
        "num2 = 13\n",
        "total = num1 + num2\n",
        "print(\"The sum of\", num1, \"and\", num2, \"is:\", total)"
      ]
    },
    {
      "cell_type": "markdown",
      "source": [
        "1B. Write a python program to multiply the two numbers 4 and 5."
      ],
      "metadata": {
        "id": "7WS5GzyIiXO8"
      }
    },
    {
      "cell_type": "code",
      "source": [
        "#Write program here\n",
        "num1 = 4\n",
        "num2 = 5\n",
        "multiply = num1 * num2\n",
        "print(\"The multiply of\", num1, \"and\", num2, \"is:\", multiply)"
      ],
      "metadata": {
        "id": "a4vrN63kich6",
        "colab": {
          "base_uri": "https://localhost:8080/"
        },
        "outputId": "42cd7a27-2ce1-4833-e342-a3445be204a2"
      },
      "execution_count": 2,
      "outputs": [
        {
          "output_type": "stream",
          "name": "stdout",
          "text": [
            "The multiply of 4 and 5 is: 20\n"
          ]
        }
      ]
    },
    {
      "cell_type": "markdown",
      "source": [
        "1C. Write a program that calculates the annual salary of an employee after it increases by 10%. (Initial annual salary £42,000)"
      ],
      "metadata": {
        "id": "X61a4vTIi3oz"
      }
    },
    {
      "cell_type": "code",
      "source": [
        "#Write program here\n",
        "annual_salary = 42000\n",
        "percentage_increase = 10\n",
        "increase_amount = annual_salary*(percentage_increase/100)\n",
        "new_salary = annual_salary + increase_amount\n",
        "print(\"Annual Salary: £\", annual_salary)\n",
        "print(\"10% Increase: £\", increase_amount)\n",
        "print(\"New Annual Salary after 10% Increase: £\", new_salary)"
      ],
      "metadata": {
        "id": "Ipi3jrRGi8Yj",
        "colab": {
          "base_uri": "https://localhost:8080/"
        },
        "outputId": "22304840-1e25-4c98-a671-ec557f90a5d7"
      },
      "execution_count": 10,
      "outputs": [
        {
          "output_type": "stream",
          "name": "stdout",
          "text": [
            "Annual Salary: £ 42000\n",
            "10% Increase: £ 4200.0\n",
            "New Annual Salary after 10% Increase: £ 46200.0\n"
          ]
        }
      ]
    },
    {
      "cell_type": "markdown",
      "source": [
        "2A. Write a python program that finds the volume of a cuboid with length 2m, width 3m and height 5m."
      ],
      "metadata": {
        "id": "E8ZB8jBSi8nb"
      }
    },
    {
      "cell_type": "code",
      "source": [
        "#Write program here\n",
        "length = 2\n",
        "width = 3\n",
        "height = 5\n",
        "volume = length * width * height\n",
        "print(\"Volume of the cuboid:\", volume, \"cubic meters\")\n"
      ],
      "metadata": {
        "id": "IZ5ro6s9jCx8",
        "colab": {
          "base_uri": "https://localhost:8080/"
        },
        "outputId": "6f8a0250-7d9e-4c68-80fb-ddf7a7549b5c"
      },
      "execution_count": 11,
      "outputs": [
        {
          "output_type": "stream",
          "name": "stdout",
          "text": [
            "Volume of the cuboid: 30 cubic meters\n"
          ]
        }
      ]
    },
    {
      "cell_type": "markdown",
      "source": [
        "2B. Write a program that finds the area of a circle that has a radius of 4m. (You can take pi as being 3.14)"
      ],
      "metadata": {
        "id": "mgfDFNxBjC78"
      }
    },
    {
      "cell_type": "code",
      "source": [
        "#Write program here\n",
        "radius = 4\n",
        "pi = 3.14\n",
        "area = pi * (radius ** 2)\n",
        "print(\"Area of the circle:\", area, \"square meters\")"
      ],
      "metadata": {
        "id": "YMRx47ktjDD7",
        "colab": {
          "base_uri": "https://localhost:8080/"
        },
        "outputId": "5e7aa0b0-96e9-4ffc-db4e-531918be1c61"
      },
      "execution_count": 13,
      "outputs": [
        {
          "output_type": "stream",
          "name": "stdout",
          "text": [
            "Area of the circle: 50.24 square meters\n"
          ]
        }
      ]
    },
    {
      "cell_type": "markdown",
      "source": [
        "2C. Write a program that finds the volume of a cone of radius 2m and height 5m. (You can take pi as being 3.14)"
      ],
      "metadata": {
        "id": "6lMyZAmzjDLN"
      }
    },
    {
      "cell_type": "code",
      "source": [
        "#Write program here\n",
        "radius = 2\n",
        "height = 5\n",
        "pi = 3.14\n",
        "volume = (pi * (radius** 2)* height) / 3\n",
        "round_volume = round(volume, 2)\n",
        "print(\"Volume of the cone:\", round_volume, \"cubic meters\")"
      ],
      "metadata": {
        "id": "AX52qgBzjDTr",
        "colab": {
          "base_uri": "https://localhost:8080/"
        },
        "outputId": "f08c13e4-e8e8-42e4-c097-afacae1ccb61"
      },
      "execution_count": 20,
      "outputs": [
        {
          "output_type": "stream",
          "name": "stdout",
          "text": [
            "Volume of the cone: 20.93 cubic meters\n"
          ]
        }
      ]
    },
    {
      "cell_type": "markdown",
      "source": [
        "2D. Write a python program that uses a loop to find the factorial of 5."
      ],
      "metadata": {
        "id": "iSdhsrKLjMIb"
      }
    },
    {
      "cell_type": "code",
      "source": [
        "#Write program here\n",
        "def factorial(n):\n",
        "    result = 1\n",
        "    for i in range(1, n + 1):\n",
        "        result *= i\n",
        "    return result\n",
        "number = 5\n",
        "result = factorial(number)\n",
        "print(f\"The factorial of {number} is: {result}\")"
      ],
      "metadata": {
        "id": "AAD9R7cfjKb0",
        "colab": {
          "base_uri": "https://localhost:8080/"
        },
        "outputId": "4c9cc805-5c0e-4c06-a4b3-7e353f3a2697"
      },
      "execution_count": 21,
      "outputs": [
        {
          "output_type": "stream",
          "name": "stdout",
          "text": [
            "The factorial of 5 is: 120\n"
          ]
        }
      ]
    }
  ]
}